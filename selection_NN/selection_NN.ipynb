{
 "cells": [
  {
   "cell_type": "code",
   "execution_count": 1,
   "metadata": {},
   "outputs": [
    {
     "name": "stdout",
     "output_type": "stream",
     "text": [
      "Welcome to JupyROOT 6.16/00\n"
     ]
    },
    {
     "name": "stderr",
     "output_type": "stream",
     "text": [
      "/Users/jonamotta/anaconda3/envs/python_root/lib/python2.7/site-packages/root_numpy/__init__.py:46: RuntimeWarning: numpy 1.16.3 is currently installed but you installed root_numpy against numpy 1.9.3. Please consider reinstalling root_numpy for this numpy version.\n",
      "  RuntimeWarning)\n",
      "Using TensorFlow backend.\n"
     ]
    }
   ],
   "source": [
    "import sys\n",
    "import ROOT\n",
    "import numpy as np\n",
    "import pandas as pd\n",
    "import root_pandas\n",
    "import seaborn as sb\n",
    "import matplotlib.pyplot as plt\n",
    "import uproot\n",
    "import time\n",
    "\n",
    "from itertools import product\n",
    "\n",
    "#from root_numpy import root2array\n",
    "\n",
    "from keras.models import Sequential\n",
    "from keras.layers import Dense\n",
    "\n",
    "from sklearn.model_selection import train_test_split\n",
    "from sklearn.metrics import roc_curve, roc_auc_score, auc"
   ]
  },
  {
   "cell_type": "code",
   "execution_count": 2,
   "metadata": {},
   "outputs": [],
   "source": [
    "########################################\n",
    "### READ TREES AND CREATE DATAFRAMES ###\n",
    "########################################\n",
    "\n",
    "\n",
    "# fix random seed for reproducibility\n",
    "np.random.seed(1986)\n",
    "\n",
    "#create DataFrames with the values coming from the trees\n",
    "file_tau = uproot.open('../bc_jpsi_tau_nu_gen_v2.root')\n",
    "tree_tau = file_tau['tree;1']\n",
    "tau  = tree_tau.pandas.df(tree_tau.keys())\n",
    "\n",
    "file_mu = uproot.open('../bc_jpsi_mu_nu_gen_v2.root')\n",
    "tree_mu = file_mu['tree;2']\n",
    "mu  = tree_mu.pandas.df(tree_mu.keys())"
   ]
  },
  {
   "cell_type": "code",
   "execution_count": 3,
   "metadata": {},
   "outputs": [
    {
     "name": "stdout",
     "output_type": "stream",
     "text": [
      "Running time to add the new vars to the df = 1397.6\n"
     ]
    }
   ],
   "source": [
    "############################################\n",
    "### ADD NECESSARY FEATURES TO DATAFRAMES ###\n",
    "############################################\n",
    "\n",
    "\n",
    "#add the column target to both dataframes\n",
    "mu ['target'] = 0\n",
    "tau['target'] = 1\n",
    "#add the columns of interesting features (taken from LHCb paper)\n",
    "mu['m2_miss'] = 0 #missing mass square (p_B - p_mu1 - p_mu2 - p_mu)^2\n",
    "tau['m2_miss'] = 0\n",
    "mu['muE_Brf'] = 0 #mu energy in the Bc rest frame\n",
    "tau['muE_Brf'] = 0\n",
    "mu['q2'] = 0 #squared 4momentum transfer to lepton sys (p_B - p_mu1 - p_mu2)^2\n",
    "tau['q2'] = 0\n",
    "mu['pT_miss'] = 0 #missing transverse momentum (p_B - p_mu1 - p_mu2 - p_mu).Pt\n",
    "tau['pT_miss'] = 0\n",
    "\n",
    "bc_vect = ROOT.TLorentzVector()\n",
    "jpsi_vect = ROOT.TLorentzVector()\n",
    "mu_vect = ROOT.TLorentzVector()\n",
    "mu1_vect = ROOT.TLorentzVector()\n",
    "mu2_vect = ROOT.TLorentzVector()\n",
    "reco_vect = ROOT.TLorentzVector()\n",
    "PV = ROOT.TVector3()\n",
    "SV = ROOT.TVector3()\n",
    "mu_mass = 0.10565837 #GeV/c^2\n",
    "jpsi_mass = 3.096900 #GeV/c^2\n",
    "bc_mass = 6.2756 #GeV/c^2\n",
    "c = 2.99e8 #m/s\n",
    "\n",
    "# in the following, when creating the TLorentzVector of mu, mu1, mu2 we try to account for the reconstruction error\n",
    "# made by the tracker and the muon system in the value of pT\n",
    "# we include a gaussian smearing -> we draw a value of pT from a gaussian centered at the value of the MC pT of the\n",
    "#                                   muon and with sigma 7% of the value of the MC pT (CMS performance)\n",
    "start = time.time()\n",
    "i = 0\n",
    "while i < mu['run'].count(): \n",
    "    # set the reconstructed particles 4vectors considering the smearing in the measure of pT due to the \n",
    "    # experimental setup (considered to be 7% as a mean between the 1-1.5% at 10GeV and the 6-17% at 1TeV)\n",
    "    mu_vect.SetPtEtaPhiM(max(np.random.normal(mu.at[i,'mu_pt'], mu.at[i,'mu_pt']*7/100),0),mu.at[i,'mu_eta'],mu.at[i,'mu_phi'],mu_mass)\n",
    "    mu1_vect.SetPtEtaPhiM(max(np.random.normal(mu.at[i,'mu1_pt'], mu.at[i,'mu1_pt']*7/100),0),mu.at[i,'mu1_eta'],mu.at[i,'mu1_phi'],mu_mass)\n",
    "    mu2_vect.SetPtEtaPhiM(max(np.random.normal(mu.at[i,'mu2_pt'], mu.at[i,'mu2_pt']*7/100),0),mu.at[i,'mu2_eta'],mu.at[i,'mu2_phi'],mu_mass)\n",
    "\n",
    "    # set the PV and SV and calculate primary-secondary vertex distance\n",
    "    # include smearing of PV reconstruction with a gaussian smearing taken from a CMS paper\n",
    "    # include smearing of SV reconstruction with a gaussian smearing with sigma double of the PV one\n",
    "    PV.SetXYZ(np.random.normal(mu.at[i,'pv_x']*1e-2, 20*1e-6),np.random.normal(mu.at[i,'pv_y']*1e-2, 20*1e-6),np.random.normal(mu.at[i,'pv_z']*1e-2, 30*1e-6))\n",
    "    SV.SetXYZ(np.random.normal(mu.at[i,'sv_x']*1e-2, 40*1e-6),np.random.normal(mu.at[i,'sv_y']*1e-2, 40*1e-6),np.random.normal(mu.at[i,'sv_z']*1e-2, 60*1e-6))\n",
    "    dist_PSV = np.sqrt((PV.X()-SV.X())**2+(PV.Y()-SV.Y())**2+(PV.Z()-SV.Z())**2)\n",
    "    \n",
    "    '''\n",
    "    # setting the above 4vectors and verteces without the smearing (un-comment it if needed)\n",
    "    mu_vect.SetPtEtaPhiM(mu.at[i,'mu_pt'],mu.at[i,'mu_eta'],mu.at[i,'mu_phi'],mu_mass)\n",
    "    mu1_vect.SetPtEtaPhiM(mu.at[i,'mu1_pt'],mu.at[i,'mu1_eta'],mu.at[i,'mu1_phi'],mu_mass)\n",
    "    mu2_vect.SetPtEtaPhiM(mu.at[i,'mu2_pt'],mu.at[i,'mu2_eta'],mu.at[i,'mu2_phi'],mu_mass)\n",
    "    PV.SetXYZ(mu.at[i,'pv_x']*1e-2, mu.at[i,'pv_y']*1e-2, mu.at[i,'pv_z']*1e-2)\n",
    "    SV.SetXYZ(mu.at[i,'sv_x']*1e-2, mu.at[i,'sv_y']*1e-2, mu.at[i,'sv_z']*1e-2)\n",
    "    dist_PSV = np.sqrt((PV.X()-SV.X())**2+(PV.Y()-SV.Y())**2+(PV.Z()-SV.Z())**2)\n",
    "    '''\n",
    "    \n",
    "    reco_vect = mu_vect + mu1_vect + mu2_vect\n",
    "    \n",
    "    # reconstruct the pT of the Bc and set the 4vector\n",
    "    #bc_pZreco = (bc_mass / reco_vect.Mag()) * reco_vect.Pz()\n",
    "    #bc_pXreco = bc_pZreco*(SV.X()-PV.X())/(SV.Z() - PV.Z())\n",
    "    #bc_pYreco = bc_pZreco*(SV.Y()-PV.Y())/(PV.Z()-SV.Z())\n",
    "    #bc_Preco = bc_pZreco * dist_PSV / (SV.Z() - PV.Z())\n",
    "    #bc_vect.SetPtEtaPhiM(np.sqrt(bc_pXreco**2+bc_pYreco**2),mu.at[i,'bc_eta'],mu.at[i,'bc_phi'],bc_mass)\n",
    "    \n",
    "    #######\n",
    "    # using the reconstruction of pT instead of pZ (gives slightly different results) \n",
    "    bc_pTreco = mu.at[i,'bc_mass'] * reco_vect.Pt() / reco_vect.Mag() \n",
    "    bc_vect.SetPtEtaPhiM(mu.at[i,'bc_mass']*reco_vect.Pt()/reco_vect.Mag(),mu.at[i,'bc_eta'],mu.at[i,'bc_phi'],mu.at[i,'bc_mass'])\n",
    "    #######\n",
    "    \n",
    "    m2_vect = bc_vect - mu1_vect - mu2_vect - mu_vect\n",
    "    q2_vect = bc_vect - mu1_vect - mu2_vect\n",
    "    \n",
    "    mu.at[i,'m2_miss'] = m2_vect.Mag2()\n",
    "    mu.at[i,'q2'] = q2_vect.Mag2()\n",
    "    mu.at[i,'muE_Brf'] = mu_vect.E() * np.cosh(mu_vect.Rapidity() - bc_vect.Rapidity())\n",
    "    mu.at[i,'pT_miss'] = m2_vect.Pt()\n",
    "    \n",
    "    # decay length and time\n",
    "    mu.at[i,'bc_DL'] = dist_PSV\n",
    "    mu.at[i,'bc_CT'] = dist_PSV / (bc_vect.Gamma()*bc_vect.Beta())                     \n",
    "    \n",
    "    # we look for the best roconstruction of the jpsi \n",
    "    muons = [mu_vect,mu1_vect,mu2_vect]\n",
    "    muons_charge = [mu.at[i,'mu_charge'],mu.at[i,'mu1_charge'],mu.at[i,'mu2_charge']]\n",
    "    pair_vect = ROOT.TLorentzVector()\n",
    "    if muons_charge[0] != muons_charge[1]:\n",
    "        pair1_vect = muons[0] + muons[1]\n",
    "        pair2_vect = muons[1] + muons[2]\n",
    "    else:\n",
    "        pair1_vect = muons[0] + muons[2]\n",
    "        pair2_vect = muons[1] + muons[2]\n",
    "     \n",
    "    if (abs(pair1_vect.Mag() - jpsi_mass)) < abs((pair2_vect.Mag() - jpsi_mass)):\n",
    "        mu.at[i,'muon_pair'] = 0 # indicating the best reco is mu+mu1/2\n",
    "    else:\n",
    "        mu.at[i,'muon_pair'] = 1 # indicating the best reco is mu1+mu2\n",
    "    \n",
    "    i += 1\n",
    "\n",
    "                               \n",
    "i = 0\n",
    "while i < tau['run'].count():\n",
    "    # set the reconstructed particles 4vectors considering the smearing in the measure of pT due to the \n",
    "    # experimental setup (considered to be 7% as a mean between the 1-1.5% at 10GeV and the 6-17% at 1TeV)\n",
    "    mu_vect.SetPtEtaPhiM(max(np.random.normal(tau.at[i,'mu_pt'], tau.at[i,'mu_pt']*7/100),0),tau.at[i,'mu_eta'],tau.at[i,'mu_phi'],mu_mass)\n",
    "    mu1_vect.SetPtEtaPhiM(max(np.random.normal(tau.at[i,'mu1_pt'], tau.at[i,'mu1_pt']*7/100),0),tau.at[i,'mu1_eta'],tau.at[i,'mu1_phi'],mu_mass)\n",
    "    mu2_vect.SetPtEtaPhiM(max(np.random.normal(tau.at[i,'mu2_pt'], tau.at[i,'mu2_pt']*7/100),0),tau.at[i,'mu2_eta'],tau.at[i,'mu2_phi'],mu_mass)\n",
    "\n",
    "    # set the PV and SV and calculate primary-secondary vertex distance\n",
    "    # include smearing of PV reconstruction with a gaussian smearing taken from a CMS paper\n",
    "    # include smearing of SV reconstruction with a gaussian smearing with sigma double of the PV one\n",
    "    PV.SetXYZ(np.random.normal(tau.at[i,'pv_x']*1e-2, 20*1e-6),np.random.normal(tau.at[i,'pv_y']*1e-2, 20*1e-6),np.random.normal(tau.at[i,'pv_z']*1e-2, 30*1e-6))\n",
    "    SV.SetXYZ(np.random.normal(tau.at[i,'sv_x']*1e-2, 40*1e-6),np.random.normal(tau.at[i,'sv_y']*1e-2, 40*1e-6),np.random.normal(tau.at[i,'sv_z']*1e-2, 60*1e-6))\n",
    "    dist_PSV = np.sqrt((PV.X()-SV.X())**2+(PV.Y()-SV.Y())**2+(PV.Z()-SV.Z())**2)\n",
    "    \n",
    "    '''\n",
    "    # setting the above 4vectors and verteces without the smearing (un-comment it if needed)\n",
    "    mu_vect.SetPtEtaPhiM(tau.at[i,'mu_pt'],tau.at[i,'mu_eta'],tau.at[i,'mu_phi'],mu_mass)\n",
    "    mu1_vect.SetPtEtaPhiM(tau.at[i,'mu1_pt'],tau.at[i,'mu1_eta'],tau.at[i,'mu1_phi'],mu_mass)\n",
    "    mu2_vect.SetPtEtaPhiM(tau.at[i,'mu2_pt'],tau.at[i,'mu2_eta'],tau.at[i,'mu2_phi'],mu_mass)\n",
    "    PV.SetXYZ(tau.at[i,'pv_x']*1e-2, tau.at[i,'pv_y']*1e-2, tau.at[i,'pv_z']*1e-2)\n",
    "    SV.SetXYZ(tau.at[i,'sv_x']*1e-2, tau.at[i,'sv_y']*1e-2, tau.at[i,'sv_z']*1e-2)\n",
    "    dist_PSV = np.sqrt((PV.X()-SV.X())**2+(PV.Y()-SV.Y())**2+(PV.Z()-SV.Z())**2)\n",
    "    '''\n",
    "    \n",
    "    reco_vect = mu_vect + mu1_vect + mu2_vect\n",
    "    \n",
    "    # reconstruct the pT of the Bc and set the 4vector\n",
    "    #bc_pZreco = (bc_mass / reco_vect.Mag()) * reco_vect.Pz()\n",
    "    #bc_pXreco = bc_pZreco*(SV.X()-PV.X())/(SV.Z() - PV.Z())\n",
    "    #bc_pYreco = bc_pZreco*(SV.Y()-PV.Y())/(PV.Z()-SV.Z())\n",
    "    #bc_Preco = bc_pZreco * dist_PSV / (SV.Z() - PV.Z())\n",
    "    #bc_vect.SetPtEtaPhiM(np.sqrt(bc_pXreco**2+bc_pYreco**2),tau.at[i,'bc_eta'],tau.at[i,'bc_phi'],bc_mass)\n",
    "    \n",
    "    ########\n",
    "    # using the reconstruction of pT instead of pZ\n",
    "    bc_pTreco = (tau.at[i,'bc_mass'] / reco_vect.Mag()) * reco_vect.Pt()\n",
    "    bc_vect.SetPtEtaPhiM(bc_pTreco,tau.at[i,'bc_eta'],tau.at[i,'bc_phi'],tau.at[i,'bc_mass'])\n",
    "    ########\n",
    "    \n",
    "    m2_vect = bc_vect - mu1_vect - mu2_vect - mu_vect\n",
    "    q2_vect = bc_vect - mu1_vect - mu2_vect\n",
    "    \n",
    "    tau.at[i,'m2_miss'] = m2_vect.Mag2()\n",
    "    tau.at[i,'q2'] = q2_vect.Mag2()\n",
    "    tau.at[i,'muE_Brf'] = mu_vect.E() * np.cosh(mu_vect.Rapidity() - bc_vect.Rapidity())\n",
    "    tau.at[i,'pT_miss'] = m2_vect.Pt()\n",
    "    \n",
    "    # decay length and decay time(c*tau)\n",
    "    tau.at[i,'bc_DL'] = dist_PSV\n",
    "    tau.at[i,'bc_CT'] = dist_PSV / (bc_vect.Gamma()*bc_vect.Beta())\n",
    "                          \n",
    "    # we look for the best roconstruction of the jpsi \n",
    "    muons = [mu_vect,mu1_vect,mu2_vect]\n",
    "    muons_charge = [mu.at[i,'mu_charge'],mu.at[i,'mu1_charge'],mu.at[i,'mu2_charge']]\n",
    "    pair_vect = ROOT.TLorentzVector()\n",
    "    if muons_charge[0] != muons_charge[1]:\n",
    "        pair1_vect = muons[0] + muons[1]\n",
    "        pair2_vect = muons[1] + muons[2]\n",
    "    else:\n",
    "        pair1_vect = muons[0] + muons[2]\n",
    "        pair2_vect = muons[1] + muons[2]\n",
    "     \n",
    "    if (abs(pair1_vect.Mag() - jpsi_mass)) < (abs(pair2_vect.Mag() - jpsi_mass)):\n",
    "        tau.at[i,'muon_pair'] = 0 # indicating the best reco is mu+mu1/2\n",
    "    else:\n",
    "        tau.at[i,'muon_pair'] = 1 # indicating the best reco is mu1+mu2\n",
    "    \n",
    "    i += 1\n",
    "    \n",
    "end = time.time()\n",
    "print 'Running time to add the new vars to the df = %.1f'%(end - start)"
   ]
  },
  {
   "cell_type": "code",
   "execution_count": 4,
   "metadata": {},
   "outputs": [],
   "source": [
    "#########################################\n",
    "### PREPARE DFs FOR TRAINING AND TEST ###\n",
    "#########################################\n",
    "\n",
    "\n",
    "# some of these features are taken from the LHCb paper and have to be computed and added to the dataframes\n",
    "features = [\n",
    "    'm2_miss', \n",
    "    'muE_Brf', \n",
    "    'q2', \n",
    "    'pT_miss',\n",
    "    'mu_pt'     ,\n",
    "    'mu_eta'    ,\n",
    "    'mu_phi'    ,\n",
    "    #'mu_charge' ,\n",
    "    'mu1_pt'    ,\n",
    "    'mu1_eta'   ,\n",
    "    'mu1_phi'   ,\n",
    "    #'mu1_charge',\n",
    "    'mu2_pt'    ,\n",
    "    'mu2_eta'   ,\n",
    "    'mu2_phi'   ,\n",
    "    #'mu2_charge',\n",
    "]\n",
    "\n",
    "# concatenate the two samples\n",
    "dataset = pd.concat([mu, tau],sort=False)\n",
    "\n",
    "# shuffle and split train/test\n",
    "train, test = train_test_split(dataset, test_size=0.85, random_state=1986, shuffle=True)\n",
    "\n",
    "# X and Y on the training sample\n",
    "X = pd.DataFrame(train, columns=features)\n",
    "Y = pd.DataFrame(train, columns=['target'])"
   ]
  },
  {
   "cell_type": "code",
   "execution_count": 5,
   "metadata": {},
   "outputs": [
    {
     "name": "stdout",
     "output_type": "stream",
     "text": [
      "WARNING:tensorflow:From /Users/jonamotta/anaconda3/envs/python_root/lib/python2.7/site-packages/tensorflow/python/framework/op_def_library.py:263: colocate_with (from tensorflow.python.framework.ops) is deprecated and will be removed in a future version.\n",
      "Instructions for updating:\n",
      "Colocations handled automatically by placer.\n"
     ]
    }
   ],
   "source": [
    "########################\n",
    "### DEFINE THE MODEL ###\n",
    "########################\n",
    "\n",
    "# define the model\n",
    "model = Sequential()\n",
    "model.add(Dense(12, input_dim=len(features), activation='relu'))\n",
    "model.add(Dense(8, activation='relu'))\n",
    "model.add(Dense(1, activation='sigmoid'))\n",
    "\n",
    "# compile the model\n",
    "model.compile(loss='binary_crossentropy', optimizer='adam', metrics=['accuracy'])"
   ]
  },
  {
   "cell_type": "code",
   "execution_count": 6,
   "metadata": {},
   "outputs": [
    {
     "name": "stdout",
     "output_type": "stream",
     "text": [
      "WARNING:tensorflow:From /Users/jonamotta/anaconda3/envs/python_root/lib/python2.7/site-packages/tensorflow/python/ops/math_ops.py:3066: to_int32 (from tensorflow.python.ops.math_ops) is deprecated and will be removed in a future version.\n",
      "Instructions for updating:\n",
      "Use tf.cast instead.\n",
      "Train on 71766 samples, validate on 71767 samples\n",
      "Epoch 1/10\n",
      "71766/71766 [==============================] - 10s 138us/step - loss: 0.3063 - acc: 0.8768 - val_loss: 0.2953 - val_acc: 0.8760\n",
      "Epoch 2/10\n",
      "71766/71766 [==============================] - 10s 135us/step - loss: 0.2919 - acc: 0.8805 - val_loss: 0.2938 - val_acc: 0.8804\n",
      "Epoch 3/10\n",
      "71766/71766 [==============================] - 10s 136us/step - loss: 0.2889 - acc: 0.8809 - val_loss: 0.2839 - val_acc: 0.8827\n",
      "Epoch 4/10\n",
      "71766/71766 [==============================] - 10s 135us/step - loss: 0.2869 - acc: 0.8817 - val_loss: 0.2821 - val_acc: 0.8835\n",
      "Epoch 5/10\n",
      "71766/71766 [==============================] - 10s 135us/step - loss: 0.2856 - acc: 0.8823 - val_loss: 0.2825 - val_acc: 0.8834\n",
      "Epoch 6/10\n",
      "71766/71766 [==============================] - 10s 135us/step - loss: 0.2851 - acc: 0.8821 - val_loss: 0.2827 - val_acc: 0.8827\n",
      "Epoch 7/10\n",
      "71766/71766 [==============================] - 10s 136us/step - loss: 0.2844 - acc: 0.8827 - val_loss: 0.2830 - val_acc: 0.8826\n",
      "Epoch 8/10\n",
      "71766/71766 [==============================] - 10s 135us/step - loss: 0.2838 - acc: 0.8830 - val_loss: 0.2816 - val_acc: 0.8825\n",
      "Epoch 9/10\n",
      "71766/71766 [==============================] - 10s 135us/step - loss: 0.2836 - acc: 0.8829 - val_loss: 0.2819 - val_acc: 0.8813\n",
      "Epoch 10/10\n",
      "71766/71766 [==============================] - 10s 135us/step - loss: 0.2832 - acc: 0.8837 - val_loss: 0.2808 - val_acc: 0.8814\n"
     ]
    },
    {
     "data": {
      "text/plain": [
       "<keras.callbacks.History at 0x104278790>"
      ]
     },
     "execution_count": 6,
     "metadata": {},
     "output_type": "execute_result"
    },
    {
     "name": "stderr",
     "output_type": "stream",
     "text": [
      "2019-07-10 18:53:17.960114: I tensorflow/core/platform/cpu_feature_guard.cc:141] Your CPU supports instructions that this TensorFlow binary was not compiled to use: AVX2 FMA\n"
     ]
    }
   ],
   "source": [
    "#######################\n",
    "### TRAIN THE MODEL ###\n",
    "#######################\n",
    "\n",
    "\n",
    "# fit the model\n",
    "model.fit(X, Y, epochs=10, batch_size=10, validation_split=0.5)"
   ]
  },
  {
   "cell_type": "code",
   "execution_count": 7,
   "metadata": {},
   "outputs": [
    {
     "name": "stdout",
     "output_type": "stream",
     "text": [
      "143533/143533 [==============================] - 2s 11us/step\n",
      "\n",
      "loss: 28.10%\n",
      "acc: 88.20%\n",
      "predicting on 813354 events\n"
     ]
    }
   ],
   "source": [
    "######################################\n",
    "### TEST THE TRAINING OF THE MODEL ###\n",
    "######################################\n",
    "\n",
    "\n",
    "# evaluate the model\n",
    "scores = model.evaluate(X, Y)\n",
    "print(\"\\n%s: %.2f%%\" % (model.metrics_names[0], scores[0]*100))\n",
    "print(\"%s: %.2f%%\" % (model.metrics_names[1], scores[1]*100))\n",
    "\n",
    "# calculate predictions on the test sample\n",
    "print 'predicting on', test.shape[0], 'events'\n",
    "x = pd.DataFrame(test, columns=features)\n",
    "y = model.predict(x)\n",
    "\n",
    "# add the score to the test sample dataframe\n",
    "test.insert(len(test.columns), 'nn_score', y)"
   ]
  },
  {
   "cell_type": "code",
   "execution_count": 8,
   "metadata": {},
   "outputs": [],
   "source": [
    "#################\n",
    "### ROC CURVE ###\n",
    "#################\n",
    "\n",
    "\n",
    "# let sklearn do the heavy lifting and compute the ROC curves for you\n",
    "fpr, tpr, wps = roc_curve(test.target, test.nn_score)"
   ]
  },
  {
   "cell_type": "code",
   "execution_count": 9,
   "metadata": {},
   "outputs": [
    {
     "data": {
      "image/png": "[encoded data removed]",
      "text/plain": [
       "<Figure size 432x288 with 1 Axes>"
      ]
     },
     "metadata": {
      "needs_background": "light"
     },
     "output_type": "display_data"
    },
    {
     "data": {
      "image/png": "[encoded data removed]",
      "text/plain": [
       "<Figure size 432x288 with 1 Axes>"
      ]
     },
     "metadata": {
      "needs_background": "light"
     },
     "output_type": "display_data"
    },
    {
     "data": {
      "text/plain": [
       "<Figure size 432x288 with 0 Axes>"
      ]
     },
     "metadata": {},
     "output_type": "display_data"
    }
   ],
   "source": [
    "##########################\n",
    "### ROC & SCORE CURVES ###\n",
    "##########################\n",
    "\n",
    "\n",
    "# plot\n",
    "plt.plot(fpr, tpr, label=r'$\\mu$ vs. $\\tau$ NN', color='b')\n",
    "# plot also the diagonal, that corresponds to random picks, no discrimination power\n",
    "xy = [i*j for i,j in product([10.**i for i in range(-8, 0)], [1,2,4,8])]+[1]\n",
    "plt.plot(xy, xy, color='grey', linestyle='--', label='no-discrimination curve')\n",
    "# cosmetics\n",
    "plt.title('ROC curve')\n",
    "plt.xlabel(r'$\\epsilon(\\tau)$')\n",
    "plt.ylabel(r'$\\epsilon(\\mu)$')\n",
    "# axis range\n",
    "plt.xlim([0.0, 1.0])\n",
    "plt.ylim([0.0, 1.0])\n",
    "# grid\n",
    "plt.grid(True)\n",
    "# legend\n",
    "plt.legend(loc='best')\n",
    "# save figure and then clean it\n",
    "plt.savefig('selectionNN_roc.pdf')\n",
    "plt.show()\n",
    "#plt.clf()\n",
    "\n",
    "# plot the discriminator shape for the muon and tau channel\n",
    "test_tau = test[test.tau_pt>=0]\n",
    "test_mu  = test[test.tau_pt <0]\n",
    "sb.distplot(test_tau['nn_score'], kde=False, norm_hist=True, label=r'$\\tau\\to\\mu$ channel', color='b')\n",
    "sb.distplot(test_mu ['nn_score'], kde=False, norm_hist=True, label=r'$\\mu$ channel' , color='r')\n",
    "plt.title('Classifier distribution')\n",
    "plt.xlabel('classifier score')\n",
    "plt.ylabel('a.u.')\n",
    "plt.xlim([0.0, 1.0])\n",
    "#plt.ylim([0.0, 0.25])\n",
    "plt.legend(loc='upper right')\n",
    "plt.savefig('selectionNN_score.pdf')\n",
    "plt.show()\n",
    "plt.clf()"
   ]
  },
  {
   "cell_type": "code",
   "execution_count": 10,
   "metadata": {},
   "outputs": [
    {
     "name": "stdout",
     "output_type": "stream",
     "text": [
      "AUC = 0.9196956303894623\n",
      "Gini index = 0.8393912607789247\n"
     ]
    }
   ],
   "source": [
    "# compute the auc\n",
    "auroc = auc(fpr, tpr)\n",
    "print \"AUC =\", auroc \n",
    "\n",
    "# compute Gini index\n",
    "print \"Gini index =\", (auroc-0.5)*2"
   ]
  },
  {
   "cell_type": "code",
   "execution_count": 11,
   "metadata": {},
   "outputs": [
    {
     "data": {
      "image/png": "[encoded data removed]",
      "text/plain": [
       "<Figure size 432x288 with 1 Axes>"
      ]
     },
     "metadata": {
      "needs_background": "light"
     },
     "output_type": "display_data"
    },
    {
     "data": {
      "image/png": "[encoded data removed]",
      "text/plain": [
       "<Figure size 432x288 with 1 Axes>"
      ]
     },
     "metadata": {
      "needs_background": "light"
     },
     "output_type": "display_data"
    },
    {
     "data": {
      "image/png": "[encoded data removed]",
      "text/plain": [
       "<Figure size 432x288 with 1 Axes>"
      ]
     },
     "metadata": {
      "needs_background": "light"
     },
     "output_type": "display_data"
    },
    {
     "data": {
      "image/png": "[encoded data removed]",
      "text/plain": [
       "<Figure size 432x288 with 1 Axes>"
      ]
     },
     "metadata": {
      "needs_background": "light"
     },
     "output_type": "display_data"
    }
   ],
   "source": [
    "sb.distplot(mu['muE_Brf'], kde=False, color='g', norm_hist=True, label='$\\mu$ channel')\n",
    "sb.distplot(tau['muE_Brf'], kde=False, color='r', norm_hist=True, label='$\\tau$ channel')\n",
    "plt.xlabel('E$_{\\mu}$ in B$_c$ rest frame[GeV]')\n",
    "plt.ylabel('n_ev')\n",
    "plt.show()\n",
    "\n",
    "sb.distplot(mu['q2'], kde=False, color='g', norm_hist=True, label='$\\mu$ channel')\n",
    "sb.distplot(tau['q2'], kde=False, color='r', norm_hist=True, label='$\\tau$ channel')\n",
    "plt.xlabel('$Q^2$[GeV]')\n",
    "plt.ylabel('n_ev')\n",
    "plt.show()\n",
    "\n",
    "sb.distplot(mu['pT_miss'], kde=False, color='g', norm_hist=True, label='$\\mu$ channel')\n",
    "sb.distplot(tau['pT_miss'], kde=False, color='r', norm_hist=True, label='$\\tau$ channel')\n",
    "plt.xlabel('missing pT [GeV]')\n",
    "plt.ylabel('n_ev')\n",
    "plt.show()\n",
    "\n",
    "sb.distplot(mu['m2_miss'], kde=False, color='g', norm_hist=True, label='$\\mu$ channel')\n",
    "sb.distplot(tau['m2_miss'], kde=False, color='r', norm_hist=True, label='$\\tau$ channel')\n",
    "plt.xlabel('missing $m^2$ [GeV]')\n",
    "plt.ylabel('n_ev')\n",
    "#plt.ylim([0,3e-8])\n",
    "plt.show()"
   ]
  },
  {
   "cell_type": "code",
   "execution_count": 12,
   "metadata": {
    "scrolled": false
   },
   "outputs": [
    {
     "data": {
      "text/plain": [
       "\"\\nmu_wrong = pd.DataFrame()\\ntau_wrong = pd.DataFrame()\\n\\ni = 0\\nk = 0\\nfor j in test_mu.index:\\n    if test_mu.at[j,'nn_score'] > 0.4:\\n        mu_wrong.at[i,'mu1_pt'] = test_mu.at[j,'mu1_pt']\\n        mu_wrong.at[i,'mu1_eta'] = test_mu.at[j,'mu1_eta']\\n        mu_wrong.at[i,'mu1_phi'] = test_mu.at[j,'mu1_phi']\\n        mu_wrong.at[i,'mu1_charge'] = test_mu.at[j,'mu1_charge']\\n        mu_wrong.at[i,'mu2_pt'] = test_mu.at[j,'mu2_pt']\\n        mu_wrong.at[i,'mu2_eta'] = test_mu.at[j,'mu2_eta']\\n        mu_wrong.at[i,'mu2_phi'] = test_mu.at[j,'mu2_phi']\\n        mu_wrong.at[i,'mu2_charge'] = test_mu.at[j,'mu2_charge']\\n        mu_wrong.at[i,'mu_pt'] = test_mu.at[j,'mu_pt']\\n        mu_wrong.at[i,'mu_eta'] = test_mu.at[j,'mu_eta']\\n        mu_wrong.at[i,'mu_phi'] = test_mu.at[j,'mu_phi']\\n        mu_wrong.at[i,'mu_charge'] = test_mu.at[j,'mu_charge']\\n        mu_wrong.at[i,'m2_miss'] = test_mu.at[j,'m2_miss']\\n        mu_wrong.at[i,'pT_miss'] = test_mu.at[j,'pT_miss']\\n        mu_wrong.at[i,'q2'] = test_mu.at[j,'q2']\\n        mu_wrong.at[i,'muE_Brf'] = test_mu.at[j,'muE_Brf']\\n        mu_wrong.at[i,'muon_pair'] = test_mu.at[j,'muon_pair']\\n        i += 1\\nfor j in test_tau.index:\\n    if test_tau.at[j,'nn_score'] < 0.4:\\n        tau_wrong.at[k,'mu1_pt'] = test_tau.at[j,'mu1_pt']\\n        tau_wrong.at[k,'mu1_eta'] = test_tau.at[j,'mu1_eta']\\n        tau_wrong.at[k,'mu1_phi'] = test_tau.at[j,'mu1_phi']\\n        tau_wrong.at[k,'mu1_charge'] = test_tau.at[j,'mu1_charge']\\n        tau_wrong.at[k,'mu2_pt'] = test_tau.at[j,'mu2_pt']\\n        tau_wrong.at[k,'mu2_eta'] = test_tau.at[j,'mu2_eta']\\n        tau_wrong.at[k,'mu2_phi'] = test_tau.at[j,'mu2_phi']\\n        tau_wrong.at[k,'mu2_charge'] = test_tau.at[j,'mu2_charge']\\n        tau_wrong.at[k,'mu_pt'] = test_tau.at[j,'mu_pt']\\n        tau_wrong.at[k,'mu_eta'] = test_tau.at[j,'mu_eta']\\n        tau_wrong.at[k,'mu_phi'] = test_tau.at[j,'mu_phi']\\n        tau_wrong.at[k,'mu_charge'] = test_tau.at[j,'mu_charge']\\n        tau_wrong.at[k,'m2_miss'] = test_tau.at[j,'m2_miss']\\n        tau_wrong.at[k,'pT_miss'] = test_tau.at[j,'pT_miss']\\n        tau_wrong.at[k,'q2'] = test_tau.at[j,'q2']\\n        tau_wrong.at[k,'muE_Brf'] = test_tau.at[j,'muE_Brf']\\n        tau_wrong.at[k,'muon_pair'] = test_tau.at[j,'muon_pair']\\n        k += 1\\n        \\nsb.distplot(mu_wrong['muE_Brf'], kde=False, color='g', norm_hist=True, label='$\\\\mu$ channel')\\nsb.distplot(tau_wrong['muE_Brf'], kde=False, color='r', norm_hist=True, label='$\\tau$ channel')\\nplt.xlabel('E$_{\\\\mu}$ in B$_c$ rest frame[GeV]')\\nplt.ylabel('n_ev')\\nplt.show()\\n\\nsb.distplot(mu_wrong['q2'], kde=False, color='g', norm_hist=True, label='$\\\\mu$ channel')\\nsb.distplot(tau_wrong['q2'], kde=False, color='r', norm_hist=True, label='$\\tau$ channel')\\nplt.xlabel('$Q^2$[GeV]')\\nplt.ylabel('n_ev')\\nplt.show()\\n\\nsb.distplot(mu_wrong['pT_miss'], kde=False, color='g', norm_hist=True, label='$\\\\mu$ channel')\\nsb.distplot(tau_wrong['pT_miss'], kde=False, color='r', norm_hist=True, label='$\\tau$ channel')\\nplt.xlabel('missing pT [GeV]')\\nplt.ylabel('n_ev')\\nplt.show()\\n\\nsb.distplot(mu_wrong['m2_miss'], kde=False, color='g', norm_hist=True, label='$\\\\mu$ channel')\\nsb.distplot(tau_wrong['m2_miss'], kde=False, color='r', norm_hist=True, label='$\\tau$ channel')\\nplt.xlabel('missing $m^2$ [GeV]')\\nplt.ylabel('n_ev')\\n#plt.ylim([0,3e-8])\\nplt.show()\\n\\nsb.distplot(mu_wrong['mu_pt'], kde=False, color='g', norm_hist=True, label='$\\\\mu$ channel')\\nsb.distplot(tau_wrong['mu_pt'], kde=False, color='r', norm_hist=True, label='$\\tau$ channel')\\nplt.xlabel('$\\\\mu$ pT [GeV]')\\nplt.ylabel('n_ev')\\nplt.show()\\n\\nsb.distplot(mu_wrong['mu_eta'], kde=False, color='g', norm_hist=True, label='$\\\\mu$ channel')\\nsb.distplot(tau_wrong['mu_eta'], kde=False, color='r', norm_hist=True, label='$\\tau$ channel')\\nplt.xlabel('$\\\\mu$ eta')\\nplt.ylabel('n_ev')\\nplt.show()\\n\\nsb.distplot(mu_wrong['mu_phi'], kde=False, color='g', norm_hist=True, label='$\\\\mu$ channel')\\nsb.distplot(tau_wrong['mu_phi'], kde=False, color='r', norm_hist=True, label='$\\tau$ channel')\\nplt.xlabel('$\\\\mu$ phi')\\nplt.ylabel('n_ev')\\nplt.show()\\n\\nsb.distplot(mu_wrong['mu1_pt'], kde=False, color='g', norm_hist=True, label='$\\\\mu$ channel')\\nsb.distplot(tau_wrong['mu1_pt'], kde=False, color='r', norm_hist=True, label='$\\tau$ channel')\\nplt.xlabel('$\\\\mu1$ pT [GeV]')\\nplt.ylabel('n_ev')\\nplt.show()\\n\\nsb.distplot(mu_wrong['mu1_eta'], kde=False, color='g', norm_hist=True, label='$\\\\mu$ channel')\\nsb.distplot(tau_wrong['mu1_eta'], kde=False, color='r', norm_hist=True, label='$\\tau$ channel')\\nplt.xlabel('$\\\\mu1$ eta')\\nplt.ylabel('n_ev')\\nplt.show()\\n\\nsb.distplot(mu_wrong['mu1_phi'], kde=False, color='g', norm_hist=True, label='$\\\\mu$ channel')\\nsb.distplot(tau_wrong['mu1_phi'], kde=False, color='r', norm_hist=True, label='$\\tau$ channel')\\nplt.xlabel('$\\\\mu1$ phi')\\nplt.ylabel('n_ev')\\nplt.show()\\n\\nsb.distplot(mu_wrong['mu2_pt'], kde=False, color='g', norm_hist=True, label='$\\\\mu$ channel')\\nsb.distplot(tau_wrong['mu2_pt'], kde=False, color='r', norm_hist=True, label='$\\tau$ channel')\\nplt.xlabel('$\\\\mu2$ pT [GeV]')\\nplt.ylabel('n_ev')\\nplt.show()\\n\\nsb.distplot(mu_wrong['mu2_eta'], kde=False, color='g', norm_hist=True, label='$\\\\mu$ channel')\\nsb.distplot(tau_wrong['mu2_eta'], kde=False, color='r', norm_hist=True, label='$\\tau$ channel')\\nplt.xlabel('$\\\\mu2$ eta')\\nplt.ylabel('n_ev')\\nplt.show()\\n\\nsb.distplot(mu_wrong['mu2_phi'], kde=False, color='g', norm_hist=True, label='$\\\\mu$ channel')\\nsb.distplot(tau_wrong['mu2_phi'], kde=False, color='r', norm_hist=True, label='$\\tau$ channel')\\nplt.xlabel('$\\\\mu2$ phi')\\nplt.ylabel('n_ev')\\nplt.show()\\n\""
      ]
     },
     "execution_count": 12,
     "metadata": {},
     "output_type": "execute_result"
    }
   ],
   "source": [
    "#############################################################################\n",
    "### CONTROL HOW THE DISTRIBUTIONS OF THE WRONGLY ASSIGNED EVENTS ARE DONE ###\n",
    "#############################################################################\n",
    "\n",
    "'''\n",
    "mu_wrong = pd.DataFrame()\n",
    "tau_wrong = pd.DataFrame()\n",
    "\n",
    "i = 0\n",
    "k = 0\n",
    "for j in test_mu.index:\n",
    "    if test_mu.at[j,'nn_score'] > 0.4:\n",
    "        mu_wrong.at[i,'mu1_pt'] = test_mu.at[j,'mu1_pt']\n",
    "        mu_wrong.at[i,'mu1_eta'] = test_mu.at[j,'mu1_eta']\n",
    "        mu_wrong.at[i,'mu1_phi'] = test_mu.at[j,'mu1_phi']\n",
    "        mu_wrong.at[i,'mu1_charge'] = test_mu.at[j,'mu1_charge']\n",
    "        mu_wrong.at[i,'mu2_pt'] = test_mu.at[j,'mu2_pt']\n",
    "        mu_wrong.at[i,'mu2_eta'] = test_mu.at[j,'mu2_eta']\n",
    "        mu_wrong.at[i,'mu2_phi'] = test_mu.at[j,'mu2_phi']\n",
    "        mu_wrong.at[i,'mu2_charge'] = test_mu.at[j,'mu2_charge']\n",
    "        mu_wrong.at[i,'mu_pt'] = test_mu.at[j,'mu_pt']\n",
    "        mu_wrong.at[i,'mu_eta'] = test_mu.at[j,'mu_eta']\n",
    "        mu_wrong.at[i,'mu_phi'] = test_mu.at[j,'mu_phi']\n",
    "        mu_wrong.at[i,'mu_charge'] = test_mu.at[j,'mu_charge']\n",
    "        mu_wrong.at[i,'m2_miss'] = test_mu.at[j,'m2_miss']\n",
    "        mu_wrong.at[i,'pT_miss'] = test_mu.at[j,'pT_miss']\n",
    "        mu_wrong.at[i,'q2'] = test_mu.at[j,'q2']\n",
    "        mu_wrong.at[i,'muE_Brf'] = test_mu.at[j,'muE_Brf']\n",
    "        mu_wrong.at[i,'muon_pair'] = test_mu.at[j,'muon_pair']\n",
    "        i += 1\n",
    "for j in test_tau.index:\n",
    "    if test_tau.at[j,'nn_score'] < 0.4:\n",
    "        tau_wrong.at[k,'mu1_pt'] = test_tau.at[j,'mu1_pt']\n",
    "        tau_wrong.at[k,'mu1_eta'] = test_tau.at[j,'mu1_eta']\n",
    "        tau_wrong.at[k,'mu1_phi'] = test_tau.at[j,'mu1_phi']\n",
    "        tau_wrong.at[k,'mu1_charge'] = test_tau.at[j,'mu1_charge']\n",
    "        tau_wrong.at[k,'mu2_pt'] = test_tau.at[j,'mu2_pt']\n",
    "        tau_wrong.at[k,'mu2_eta'] = test_tau.at[j,'mu2_eta']\n",
    "        tau_wrong.at[k,'mu2_phi'] = test_tau.at[j,'mu2_phi']\n",
    "        tau_wrong.at[k,'mu2_charge'] = test_tau.at[j,'mu2_charge']\n",
    "        tau_wrong.at[k,'mu_pt'] = test_tau.at[j,'mu_pt']\n",
    "        tau_wrong.at[k,'mu_eta'] = test_tau.at[j,'mu_eta']\n",
    "        tau_wrong.at[k,'mu_phi'] = test_tau.at[j,'mu_phi']\n",
    "        tau_wrong.at[k,'mu_charge'] = test_tau.at[j,'mu_charge']\n",
    "        tau_wrong.at[k,'m2_miss'] = test_tau.at[j,'m2_miss']\n",
    "        tau_wrong.at[k,'pT_miss'] = test_tau.at[j,'pT_miss']\n",
    "        tau_wrong.at[k,'q2'] = test_tau.at[j,'q2']\n",
    "        tau_wrong.at[k,'muE_Brf'] = test_tau.at[j,'muE_Brf']\n",
    "        tau_wrong.at[k,'muon_pair'] = test_tau.at[j,'muon_pair']\n",
    "        k += 1\n",
    "        \n",
    "sb.distplot(mu_wrong['muE_Brf'], kde=False, color='g', norm_hist=True, label='$\\mu$ channel')\n",
    "sb.distplot(tau_wrong['muE_Brf'], kde=False, color='r', norm_hist=True, label='$\\tau$ channel')\n",
    "plt.xlabel('E$_{\\mu}$ in B$_c$ rest frame[GeV]')\n",
    "plt.ylabel('n_ev')\n",
    "plt.show()\n",
    "\n",
    "sb.distplot(mu_wrong['q2'], kde=False, color='g', norm_hist=True, label='$\\mu$ channel')\n",
    "sb.distplot(tau_wrong['q2'], kde=False, color='r', norm_hist=True, label='$\\tau$ channel')\n",
    "plt.xlabel('$Q^2$[GeV]')\n",
    "plt.ylabel('n_ev')\n",
    "plt.show()\n",
    "\n",
    "sb.distplot(mu_wrong['pT_miss'], kde=False, color='g', norm_hist=True, label='$\\mu$ channel')\n",
    "sb.distplot(tau_wrong['pT_miss'], kde=False, color='r', norm_hist=True, label='$\\tau$ channel')\n",
    "plt.xlabel('missing pT [GeV]')\n",
    "plt.ylabel('n_ev')\n",
    "plt.show()\n",
    "\n",
    "sb.distplot(mu_wrong['m2_miss'], kde=False, color='g', norm_hist=True, label='$\\mu$ channel')\n",
    "sb.distplot(tau_wrong['m2_miss'], kde=False, color='r', norm_hist=True, label='$\\tau$ channel')\n",
    "plt.xlabel('missing $m^2$ [GeV]')\n",
    "plt.ylabel('n_ev')\n",
    "#plt.ylim([0,3e-8])\n",
    "plt.show()\n",
    "\n",
    "sb.distplot(mu_wrong['mu_pt'], kde=False, color='g', norm_hist=True, label='$\\mu$ channel')\n",
    "sb.distplot(tau_wrong['mu_pt'], kde=False, color='r', norm_hist=True, label='$\\tau$ channel')\n",
    "plt.xlabel('$\\mu$ pT [GeV]')\n",
    "plt.ylabel('n_ev')\n",
    "plt.show()\n",
    "\n",
    "sb.distplot(mu_wrong['mu_eta'], kde=False, color='g', norm_hist=True, label='$\\mu$ channel')\n",
    "sb.distplot(tau_wrong['mu_eta'], kde=False, color='r', norm_hist=True, label='$\\tau$ channel')\n",
    "plt.xlabel('$\\mu$ eta')\n",
    "plt.ylabel('n_ev')\n",
    "plt.show()\n",
    "\n",
    "sb.distplot(mu_wrong['mu_phi'], kde=False, color='g', norm_hist=True, label='$\\mu$ channel')\n",
    "sb.distplot(tau_wrong['mu_phi'], kde=False, color='r', norm_hist=True, label='$\\tau$ channel')\n",
    "plt.xlabel('$\\mu$ phi')\n",
    "plt.ylabel('n_ev')\n",
    "plt.show()\n",
    "\n",
    "sb.distplot(mu_wrong['mu1_pt'], kde=False, color='g', norm_hist=True, label='$\\mu$ channel')\n",
    "sb.distplot(tau_wrong['mu1_pt'], kde=False, color='r', norm_hist=True, label='$\\tau$ channel')\n",
    "plt.xlabel('$\\mu1$ pT [GeV]')\n",
    "plt.ylabel('n_ev')\n",
    "plt.show()\n",
    "\n",
    "sb.distplot(mu_wrong['mu1_eta'], kde=False, color='g', norm_hist=True, label='$\\mu$ channel')\n",
    "sb.distplot(tau_wrong['mu1_eta'], kde=False, color='r', norm_hist=True, label='$\\tau$ channel')\n",
    "plt.xlabel('$\\mu1$ eta')\n",
    "plt.ylabel('n_ev')\n",
    "plt.show()\n",
    "\n",
    "sb.distplot(mu_wrong['mu1_phi'], kde=False, color='g', norm_hist=True, label='$\\mu$ channel')\n",
    "sb.distplot(tau_wrong['mu1_phi'], kde=False, color='r', norm_hist=True, label='$\\tau$ channel')\n",
    "plt.xlabel('$\\mu1$ phi')\n",
    "plt.ylabel('n_ev')\n",
    "plt.show()\n",
    "\n",
    "sb.distplot(mu_wrong['mu2_pt'], kde=False, color='g', norm_hist=True, label='$\\mu$ channel')\n",
    "sb.distplot(tau_wrong['mu2_pt'], kde=False, color='r', norm_hist=True, label='$\\tau$ channel')\n",
    "plt.xlabel('$\\mu2$ pT [GeV]')\n",
    "plt.ylabel('n_ev')\n",
    "plt.show()\n",
    "\n",
    "sb.distplot(mu_wrong['mu2_eta'], kde=False, color='g', norm_hist=True, label='$\\mu$ channel')\n",
    "sb.distplot(tau_wrong['mu2_eta'], kde=False, color='r', norm_hist=True, label='$\\tau$ channel')\n",
    "plt.xlabel('$\\mu2$ eta')\n",
    "plt.ylabel('n_ev')\n",
    "plt.show()\n",
    "\n",
    "sb.distplot(mu_wrong['mu2_phi'], kde=False, color='g', norm_hist=True, label='$\\mu$ channel')\n",
    "sb.distplot(tau_wrong['mu2_phi'], kde=False, color='r', norm_hist=True, label='$\\tau$ channel')\n",
    "plt.xlabel('$\\mu2$ phi')\n",
    "plt.ylabel('n_ev')\n",
    "plt.show()\n",
    "'''"
   ]
  }
 ],
 "metadata": {
  "kernelspec": {
   "display_name": "Python 2",
   "language": "python",
   "name": "python2"
  },
  "language_info": {
   "codemirror_mode": {
    "name": "ipython",
    "version": 2
   },
   "file_extension": ".py",
   "mimetype": "text/x-python",
   "name": "python",
   "nbconvert_exporter": "python",
   "pygments_lexer": "ipython2",
   "version": "2.7.15"
  }
 },
 "nbformat": 4,
 "nbformat_minor": 2
}
