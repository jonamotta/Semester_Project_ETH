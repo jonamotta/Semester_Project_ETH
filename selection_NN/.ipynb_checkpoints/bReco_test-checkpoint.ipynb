{
 "cells": [
  {
   "cell_type": "code",
   "execution_count": 1,
   "metadata": {},
   "outputs": [
    {
     "name": "stdout",
     "output_type": "stream",
     "text": [
      "Welcome to JupyROOT 6.16/00\n"
     ]
    },
    {
     "name": "stderr",
     "output_type": "stream",
     "text": [
      "/Users/jonamotta/anaconda3/envs/python_root/lib/python2.7/site-packages/root_numpy/__init__.py:46: RuntimeWarning: numpy 1.16.3 is currently installed but you installed root_numpy against numpy 1.9.3. Please consider reinstalling root_numpy for this numpy version.\n",
      "  RuntimeWarning)\n",
      "Using TensorFlow backend.\n"
     ]
    }
   ],
   "source": [
    "import sys\n",
    "import ROOT\n",
    "import numpy as np\n",
    "import pandas as pd\n",
    "import root_pandas\n",
    "import seaborn as sb\n",
    "import matplotlib.pyplot as plt\n",
    "import uproot\n",
    "import time\n",
    "\n",
    "from itertools import product\n",
    "\n",
    "#from root_numpy import root2array\n",
    "\n",
    "from keras.models import Sequential\n",
    "from keras.layers import Dense\n",
    "\n",
    "from sklearn.model_selection import train_test_split\n",
    "from sklearn.metrics import roc_curve, roc_auc_score, auc"
   ]
  },
  {
   "cell_type": "code",
   "execution_count": 2,
   "metadata": {},
   "outputs": [],
   "source": [
    "########################################\n",
    "### READ TREES AND CREATE DATAFRAMES ###\n",
    "########################################\n",
    "\n",
    "\n",
    "# fix random seed for reproducibility\n",
    "np.random.seed(1986)\n",
    "\n",
    "#create DataFrames with the values coming from the trees\n",
    "file_tau = uproot.open('../bc_jpsi_tau_nu_gen_v2.root')\n",
    "tree_tau = file_tau['tree;1']\n",
    "tau  = tree_tau.pandas.df(tree_tau.keys())\n",
    "\n",
    "file_mu = uproot.open('../bc_jpsi_mu_nu_gen_v2.root')\n",
    "tree_mu = file_mu['tree;2']\n",
    "mu  = tree_mu.pandas.df(tree_mu.keys())"
   ]
  },
  {
   "cell_type": "code",
   "execution_count": 3,
   "metadata": {},
   "outputs": [
    {
     "name": "stdout",
     "output_type": "stream",
     "text": [
      "Running time to add the new vars to the df = 1571.3\n"
     ]
    }
   ],
   "source": [
    "############################################\n",
    "### ADD NECESSARY FEATURES TO DATAFRAMES ###\n",
    "############################################\n",
    "\n",
    "\n",
    "#add the column target to both dataframes\n",
    "mu ['target'] = 0\n",
    "tau['target'] = 1\n",
    "#add the columns of interesting features (taken from LHCb paper)\n",
    "mu['m2_miss'] = 0 #missing mass square (p_B - p_mu1 - p_mu2 - p_mu)^2\n",
    "tau['m2_miss'] = 0\n",
    "mu['muE_Brf'] = 0 #mu energy in the Bc rest frame\n",
    "tau['muE_Brf'] = 0\n",
    "mu['q2'] = 0 #squared 4momentum transfer to lepton sys (p_B - p_mu1 - p_mu2)^2\n",
    "tau['q2'] = 0\n",
    "mu['pT_miss'] = 0 #missing transverse momentum (p_B - p_mu1 - p_mu2 - p_mu).Pt\n",
    "tau['pT_miss'] = 0\n",
    "\n",
    "bc_vectZ = ROOT.TLorentzVector()\n",
    "bc_vectT = ROOT.TLorentzVector()\n",
    "bc_comb = ROOT.TLorentzVector()\n",
    "jpsi_vect = ROOT.TLorentzVector()\n",
    "mu_vect = ROOT.TLorentzVector()\n",
    "mu1_vect = ROOT.TLorentzVector()\n",
    "mu2_vect = ROOT.TLorentzVector()\n",
    "reco_vect = ROOT.TLorentzVector()\n",
    "PV = ROOT.TVector3()\n",
    "SV = ROOT.TVector3()\n",
    "mu_mass = 0.10565837 #GeV/c^2\n",
    "jpsi_mass = 3.096900 #GeV/c^2\n",
    "bc_mass = 6.2756 #GeV/c^2\n",
    "c = 2.99e8 #m/s\n",
    "\n",
    "# in the following, when creating the TLorentzVector of mu, mu1, mu2 we try to account for the reconstruction error\n",
    "# made by the tracker and the muon system in the value of pT\n",
    "# we include a gaussian smearing -> we draw a value of pT from a gaussian centered at the value of the MC pT of the\n",
    "#                                   muon and with sigma 7% of the value of the MC pT (CMS performance)\n",
    "start = time.time()\n",
    "i = 0\n",
    "while i < mu['run'].count(): \n",
    "    # set the reconstructed particles 4vectors considering the smearing in the measure of pT due to the \n",
    "    # experimental setup (considered to be 7% as a mean between the 1-1.5% at 10GeV and the 6-17% at 1TeV)\n",
    "    mu_vect.SetPtEtaPhiM(max(np.random.normal(mu.at[i,'mu_pt'], mu.at[i,'mu_pt']*7/100),0),mu.at[i,'mu_eta'],mu.at[i,'mu_phi'],mu_mass)\n",
    "    mu1_vect.SetPtEtaPhiM(max(np.random.normal(mu.at[i,'mu1_pt'], mu.at[i,'mu1_pt']*7/100),0),mu.at[i,'mu1_eta'],mu.at[i,'mu1_phi'],mu_mass)\n",
    "    mu2_vect.SetPtEtaPhiM(max(np.random.normal(mu.at[i,'mu2_pt'], mu.at[i,'mu2_pt']*7/100),0),mu.at[i,'mu2_eta'],mu.at[i,'mu2_phi'],mu_mass)\n",
    "\n",
    "    # set the PV and SV and calculate primary-secondary vertex distance\n",
    "    # include smearing of PV reconstruction with a gaussian smearing taken from a CMS paper\n",
    "    # include smearing of SV reconstruction with a gaussian smearing with sigma double of the PV one\n",
    "    PV.SetXYZ(np.random.normal(mu.at[i,'pv_x'], 20*1e-6),np.random.normal(mu.at[i,'pv_y'], 20*1e-6),np.random.normal(mu.at[i,'pv_z'], 30*1e-6))\n",
    "    SV.SetXYZ(np.random.normal(mu.at[i,'sv_x'], 40*1e-6),np.random.normal(mu.at[i,'sv_y'], 40*1e-6),np.random.normal(mu.at[i,'sv_z'], 60*1e-6))\n",
    "    dist_PSV = np.sqrt((PV.X()-SV.X())**2+(PV.Y()-SV.Y())**2+(PV.Z()-SV.Z())**2)*1e-2\n",
    "    \n",
    "    '''\n",
    "    # setting the above 4vectors and verteces without the smearing (un-comment it if needed)\n",
    "    mu_vect.SetPtEtaPhiM(mu.at[i,'mu_pt'],mu.at[i,'mu_eta'],mu.at[i,'mu_phi'],mu_mass)\n",
    "    mu1_vect.SetPtEtaPhiM(mu.at[i,'mu1_pt'],mu.at[i,'mu1_eta'],mu.at[i,'mu1_phi'],mu_mass)\n",
    "    mu2_vect.SetPtEtaPhiM(mu.at[i,'mu2_pt'],mu.at[i,'mu2_eta'],mu.at[i,'mu2_phi'],mu_mass)\n",
    "    PV.SetXYZ(mu.at[i,'pv_x'], mu.at[i,'pv_y'], mu.at[i,'pv_z'])\n",
    "    SV.SetXYZ(mu.at[i,'sv_x'], mu.at[i,'sv_y'], mu.at[i,'sv_z'])\n",
    "    dist_PSV = np.sqrt((PV.X()-SV.X())**2+(PV.Y()-SV.Y())**2+(PV.Z()-SV.Z())**2)*1e-2\n",
    "    '''\n",
    "    \n",
    "    reco_vect = mu_vect + mu1_vect + mu2_vect\n",
    "    \n",
    "    # reconstruct the pT of the Bc and set the 4vector\n",
    "    bc_pZreco = (bc_mass / reco_vect.Mag()) * reco_vect.Pz()\n",
    "    bc_pXreco = bc_pZreco*(SV.X()-PV.X())/(SV.Z() - PV.Z())\n",
    "    bc_pYreco = bc_pZreco*(SV.Y()-PV.Y())/(PV.Z()-SV.Z())\n",
    "    bc_Preco = bc_pZreco * dist_PSV / ((SV.Z() - PV.Z())*1e-2)\n",
    "    bc_vectZ.SetPtEtaPhiM(np.sqrt(bc_pXreco**2+bc_pYreco**2),mu.at[i,'bc_eta'],mu.at[i,'bc_phi'],bc_mass)\n",
    "    \n",
    "    # test using the reconstruction of pT instead of pZ\n",
    "    bc_pTreco = bc_mass * reco_vect.Pt() / reco_vect.Mag() \n",
    "    bc_vectT.SetPtEtaPhiM(bc_pTreco,mu.at[i,'bc_eta'],mu.at[i,'bc_phi'],bc_mass)\n",
    "    \n",
    "    # combine the two reconstruction methods \n",
    "    bc_comb.SetPtEtaPhiM((bc_pTreco+np.sqrt(bc_pXreco**2+bc_pYreco**2))/2,mu.at[i,'bc_eta'],mu.at[i,'bc_phi'],bc_mass)   \n",
    "    \n",
    "    m2_vect = bc_vectZ - mu1_vect - mu2_vect - mu_vect\n",
    "    q2_vect = bc_vectZ - mu1_vect - mu2_vect\n",
    "    \n",
    "    mu.at[i,'m2_miss'] = m2_vect.Mag2()\n",
    "    mu.at[i,'q2'] = q2_vect.Mag2()\n",
    "    mu.at[i,'muE_Brf'] = mu_vect.E() * np.cosh(mu_vect.Rapidity() - bc_vectZ.Rapidity())\n",
    "    mu.at[i,'pT_miss'] = m2_vect.Pt()\n",
    "    \n",
    "    # decay length and time\n",
    "    mu.at[i,'bc_DL'] = dist_PSV\n",
    "    mu.at[i,'bcZ_CT'] = dist_PSV / (bc_vectZ.Gamma()*bc_vectZ.Beta())   \n",
    "    mu.at[i,'bcT_CT'] = dist_PSV / (bc_vectT.Gamma()*bc_vectT.Beta()) \n",
    "    mu.at[i,'bcComb_CT'] = dist_PSV / (bc_comb.Gamma()*bc_comb.Beta())  \n",
    "    # reconstructed Bc mass\n",
    "    mu.at[i,'bcZ_mass'] = bc_vectZ.Mag()\n",
    "    mu.at[i,'bcT_mass'] = bc_vectT.Mag()\n",
    "    mu.at[i,'bcComb_mass'] = bc_vectT.Mag()\n",
    "    # reconstructed Bc pT\n",
    "    mu.at[i,'bcZ_pt'] = bc_vectZ.Pt()\n",
    "    mu.at[i,'bcT_pt'] = bc_vectT.Pt()\n",
    "    mu.at[i,'bcComb_pt'] = bc_vectT.Pt()\n",
    "    \n",
    "    # we look for the best roconstruction of the jpsi \n",
    "    muons = [mu_vect,mu1_vect,mu2_vect]\n",
    "    muons_charge = [mu.at[i,'mu_charge'],mu.at[i,'mu1_charge'],mu.at[i,'mu2_charge']]\n",
    "    pair_vect = ROOT.TLorentzVector()\n",
    "    if muons_charge[0] != muons_charge[1]:\n",
    "        pair1_vect = muons[0] + muons[1]\n",
    "        pair2_vect = muons[1] + muons[2]\n",
    "    else:\n",
    "        pair1_vect = muons[0] + muons[2]\n",
    "        pair2_vect = muons[1] + muons[2]\n",
    "     \n",
    "    if (abs(pair1_vect.Mag() - jpsi_mass)) < abs((pair2_vect.Mag() - jpsi_mass)):\n",
    "        mu.at[i,'muon_pair'] = 0 # indicating the best reco is mu+mu1/2\n",
    "    else:\n",
    "        mu.at[i,'muon_pair'] = 1 # indicating the best reco is mu1+mu2\n",
    "    \n",
    "    i += 1\n",
    "\n",
    "                               \n",
    "i = 0\n",
    "while i < tau['run'].count():\n",
    "    # set the reconstructed particles 4vectors considering the smearing in the measure of pT due to the \n",
    "    # experimental setup (considered to be 7% as a mean between the 1-1.5% at 10GeV and the 6-17% at 1TeV)\n",
    "    mu_vect.SetPtEtaPhiM(max(np.random.normal(tau.at[i,'mu_pt'], tau.at[i,'mu_pt']*7/100),0),tau.at[i,'mu_eta'],tau.at[i,'mu_phi'],mu_mass)\n",
    "    mu1_vect.SetPtEtaPhiM(max(np.random.normal(tau.at[i,'mu1_pt'], tau.at[i,'mu1_pt']*7/100),0),tau.at[i,'mu1_eta'],tau.at[i,'mu1_phi'],mu_mass)\n",
    "    mu2_vect.SetPtEtaPhiM(max(np.random.normal(tau.at[i,'mu2_pt'], tau.at[i,'mu2_pt']*7/100),0),tau.at[i,'mu2_eta'],tau.at[i,'mu2_phi'],mu_mass)\n",
    "\n",
    "    # set the PV and SV and calculate primary-secondary vertex distance\n",
    "    # include smearing of PV reconstruction with a gaussian smearing taken from a CMS paper\n",
    "    # include smearing of SV reconstruction with a gaussian smearing with sigma double of the PV one\n",
    "    PV.SetXYZ(np.random.normal(tau.at[i,'pv_x'], 20*1e-6),np.random.normal(tau.at[i,'pv_y'], 20*1e-6),np.random.normal(tau.at[i,'pv_z'], 30*1e-6))\n",
    "    SV.SetXYZ(np.random.normal(tau.at[i,'sv_x'], 40*1e-6),np.random.normal(tau.at[i,'sv_y'], 40*1e-6),np.random.normal(tau.at[i,'sv_z'], 60*1e-6))\n",
    "    dist_PSV = np.sqrt((PV.X()-SV.X())**2+(PV.Y()-SV.Y())**2+(PV.Z()-SV.Z())**2)*1e-2\n",
    "    \n",
    "    '''\n",
    "    # setting the above 4vectors and verteces without the smearing (un-comment it if needed)\n",
    "    mu_vect.SetPtEtaPhiM(tau.at[i,'mu_pt'],tau.at[i,'mu_eta'],tau.at[i,'mu_phi'],mu_mass)\n",
    "    mu1_vect.SetPtEtaPhiM(tau.at[i,'mu1_pt'],tau.at[i,'mu1_eta'],tau.at[i,'mu1_phi'],mu_mass)\n",
    "    mu2_vect.SetPtEtaPhiM(tau.at[i,'mu2_pt'],tau.at[i,'mu2_eta'],tau.at[i,'mu2_phi'],mu_mass)\n",
    "    PV.SetXYZ(tau.at[i,'pv_x'], tau.at[i,'pv_y'], tau.at[i,'pv_z'])\n",
    "    SV.SetXYZ(tau.at[i,'sv_x'], tau.at[i,'sv_y'], tau.at[i,'sv_z'])\n",
    "    dist_PSV = np.sqrt((PV.X()-SV.X())**2+(PV.Y()-SV.Y())**2+(PV.Z()-SV.Z())**2)*1e-2\n",
    "    '''\n",
    "    \n",
    "    reco_vect = mu_vect + mu1_vect + mu2_vect\n",
    "    \n",
    "    # reconstruct the pT of the Bc and set the 4vector\n",
    "    bc_pZreco = (bc_mass / reco_vect.Mag()) * reco_vect.Pz()\n",
    "    bc_pXreco = bc_pZreco*(SV.X()-PV.X())/(SV.Z() - PV.Z())\n",
    "    bc_pYreco = bc_pZreco*(SV.Y()-PV.Y())/(PV.Z()-SV.Z())\n",
    "    bc_Preco = bc_pZreco * dist_PSV / ((SV.Z() - PV.Z())*1e-2)\n",
    "    bc_vectZ.SetPtEtaPhiM(np.sqrt(bc_pXreco**2+bc_pYreco**2),tau.at[i,'bc_eta'],tau.at[i,'bc_phi'],bc_mass)\n",
    "    \n",
    "    # using the reconstruction of pT instead of pZ\n",
    "    bc_pTreco = (bc_mass / reco_vect.Mag()) * reco_vect.Pt()\n",
    "    bc_vectT.SetPtEtaPhiM(bc_pTreco,tau.at[i,'bc_eta'],tau.at[i,'bc_phi'],bc_mass)\n",
    "    \n",
    "    # combine the two reconstruction methods \n",
    "    bc_comb.SetPtEtaPhiM((bc_pTreco+np.sqrt(bc_pXreco**2+bc_pYreco**2))/2,tau.at[i,'bc_eta'],tau.at[i,'bc_phi'],bc_mass) \n",
    "    \n",
    "    m2_vect = bc_vectZ - mu1_vect - mu2_vect - mu_vect\n",
    "    q2_vect = bc_vectZ - mu1_vect - mu2_vect\n",
    "    \n",
    "    tau.at[i,'m2_miss'] = m2_vect.Mag2()\n",
    "    tau.at[i,'q2'] = q2_vect.Mag2()\n",
    "    tau.at[i,'muE_Brf'] = mu_vect.E() * np.cosh(mu_vect.Rapidity() - bc_vectZ.Rapidity())\n",
    "    tau.at[i,'pT_miss'] = m2_vect.Pt()\n",
    "    \n",
    "    # decay length and decay time(c*tau)\n",
    "    tau.at[i,'bc_DL'] = dist_PSV\n",
    "    tau.at[i,'bcZ_CT'] = dist_PSV / (bc_vectZ.Gamma()*bc_vectZ.Beta())\n",
    "    tau.at[i,'bcT_CT'] = dist_PSV / (bc_vectT.Gamma()*bc_vectT.Beta())  \n",
    "    tau.at[i,'bcComb_CT'] = dist_PSV / (bc_comb.Gamma()*bc_comb.Beta())  \n",
    "    # reconstructed Bc mass\n",
    "    tau.at[i,'bcZ_mass'] = bc_vectZ.Mag()\n",
    "    tau.at[i,'bcT_mass'] = bc_vectT.Mag()\n",
    "    tau.at[i,'bcComb_mass'] = bc_vectT.Mag()\n",
    "    # reconstructed Bc pT\n",
    "    tau.at[i,'bcZ_pt'] = bc_vectZ.Pt()\n",
    "    tau.at[i,'bcT_pt'] = bc_vectT.Pt()\n",
    "    tau.at[i,'bcComb_pt'] = bc_vectT.Pt()\n",
    "                          \n",
    "    # we look for the best roconstruction of the jpsi \n",
    "    muons = [mu_vect,mu1_vect,mu2_vect]\n",
    "    muons_charge = [mu.at[i,'mu_charge'],mu.at[i,'mu1_charge'],mu.at[i,'mu2_charge']]\n",
    "    pair_vect = ROOT.TLorentzVector()\n",
    "    if muons_charge[0] != muons_charge[1]:\n",
    "        pair1_vect = muons[0] + muons[1]\n",
    "        pair2_vect = muons[1] + muons[2]\n",
    "    else:\n",
    "        pair1_vect = muons[0] + muons[2]\n",
    "        pair2_vect = muons[1] + muons[2]\n",
    "     \n",
    "    if (abs(pair1_vect.Mag() - jpsi_mass)) < (abs(pair2_vect.Mag() - jpsi_mass)):\n",
    "        tau.at[i,'muon_pair'] = 0 # indicating the best reco is mu+mu1/2\n",
    "    else:\n",
    "        tau.at[i,'muon_pair'] = 1 # indicating the best reco is mu1+mu2\n",
    "    \n",
    "    i += 1\n",
    "    \n",
    "end = time.time()\n",
    "print 'Running time to add the new vars to the df = %.1f'%(end - start)"
   ]
  },
  {
   "cell_type": "code",
   "execution_count": 4,
   "metadata": {},
   "outputs": [
    {
     "data": {
      "image/png": "[encoded data removed]",
      "text/plain": [
       "<Figure size 432x288 with 1 Axes>"
      ]
     },
     "metadata": {
      "needs_background": "light"
     },
     "output_type": "display_data"
    },
    {
     "data": {
      "image/png": "[encoded data removed]",
      "text/plain": [
       "<Figure size 432x288 with 1 Axes>"
      ]
     },
     "metadata": {
      "needs_background": "light"
     },
     "output_type": "display_data"
    },
    {
     "data": {
      "image/png": "[encoded data removed]",
      "text/plain": [
       "<Figure size 432x288 with 1 Axes>"
      ]
     },
     "metadata": {
      "needs_background": "light"
     },
     "output_type": "display_data"
    },
    {
     "data": {
      "image/png": "[encoded data removed]",
      "text/plain": [
       "<Figure size 432x288 with 1 Axes>"
      ]
     },
     "metadata": {
      "needs_background": "light"
     },
     "output_type": "display_data"
    }
   ],
   "source": [
    "###############################################################################\n",
    "### COMPARE THE DISTRIBUTIONS OF THE THREE DIFFERENT RECONSTRUCTION METHODS ###\n",
    "###############################################################################\n",
    "\n",
    "\n",
    "plt.hist(mu['bc_mass'], bins=100, color='g', label='MC')\n",
    "plt.hist(mu['bcZ_mass'], bins=100, color='r', label='pZ reco')\n",
    "plt.hist(mu['bcT_mass'], bins=100, color='b', label='pT reco')\n",
    "plt.hist(mu['bcComb_mass'], bins=100, color='y', label='comb reco')\n",
    "plt.xlabel('$\\mu$ channel Bc mass [GeV/c^2]')\n",
    "plt.ylabel('n_ev')\n",
    "plt.show()\n",
    "\n",
    "plt.hist(mu['bc_pt'], color='g', label='MC')\n",
    "plt.hist(mu['bcZ_pt'], color='r', label= 'pZ reco')\n",
    "plt.hist(mu['bcT_pt'], color='b', label='pT reco')\n",
    "plt.hist(mu['bcComb_pt'], color='y', label='comb reco')\n",
    "plt.xlabel('$\\mu$ channel Bc pT [GeV]')\n",
    "plt.ylabel('n_ev')\n",
    "plt.show()\n",
    "\n",
    "sb.distplot(tau['bc_mass'], kde=False, color='g', norm_hist=True, label='MC')\n",
    "sb.distplot(tau['bcZ_mass'], kde=False, color='r', norm_hist=True, label= 'pZ reco')\n",
    "sb.distplot(tau['bcT_mass'], kde=False, color='b', norm_hist=True, label='pT reco')\n",
    "sb.distplot(tau['bcComb_mass'], kde=False, color='y', norm_hist=True, label='comb reco')\n",
    "plt.xlabel('$\\tau$ channel Bc mass [GeV/c^2]')\n",
    "plt.ylabel('n_ev')\n",
    "plt.show()\n",
    "\n",
    "sb.distplot(tau['bc_pt'], kde=False, color='g', norm_hist=True, label='MC')\n",
    "sb.distplot(tau['bcZ_pt'], kde=False, color='r', norm_hist=True, label= 'pZ reco')\n",
    "sb.distplot(tau['bcT_pt'], kde=False, color='b', norm_hist=True, label='pT reco')\n",
    "sb.distplot(tau['bcComb_pt'], kde=False, color='y', norm_hist=True, label='comb reco')\n",
    "plt.xlabel('$\\tau$ channel Bc pT [GeV]')\n",
    "plt.ylabel('n_ev')\n",
    "plt.show()"
   ]
  },
  {
   "cell_type": "code",
   "execution_count": 20,
   "metadata": {},
   "outputs": [
    {
     "data": {
      "image/png": "[encoded data removed]",
      "text/plain": [
       "<Figure size 432x288 with 1 Axes>"
      ]
     },
     "metadata": {
      "needs_background": "light"
     },
     "output_type": "display_data"
    },
    {
     "data": {
      "image/png": "[encoded data removed]",
      "text/plain": [
       "<Figure size 432x288 with 1 Axes>"
      ]
     },
     "metadata": {
      "needs_background": "light"
     },
     "output_type": "display_data"
    },
    {
     "data": {
      "image/png": "[encoded data removed]",
      "text/plain": [
       "<Figure size 432x288 with 1 Axes>"
      ]
     },
     "metadata": {
      "needs_background": "light"
     },
     "output_type": "display_data"
    },
    {
     "data": {
      "image/png": "[encoded data removed]",
      "text/plain": [
       "<Figure size 432x288 with 1 Axes>"
      ]
     },
     "metadata": {
      "needs_background": "light"
     },
     "output_type": "display_data"
    }
   ],
   "source": [
    "####################################################################################\n",
    "### COMPARE THE DIFF DISTRIBUTIONS OF THE THREE DIFFERENT RECONSTRUCTION METHODS ###\n",
    "####################################################################################\n",
    "\n",
    "\n",
    "sb.distplot(mu['bcZ_mass']-mu['bc_mass'], kde=False, color='r', norm_hist=True, label='pZ reco')\n",
    "sb.distplot(mu['bcT_mass']-mu['bc_mass'], kde=False, color='b', norm_hist=True, label='pT reco')\n",
    "sb.distplot(mu['bcComb_mass']-mu['bc_mass'], kde=False, color='y', norm_hist=True, label='comb reco')\n",
    "plt.xlabel('$\\mu$ channel Bc mass [GeV/c^2]')\n",
    "plt.ylabel('n_ev')\n",
    "plt.show()\n",
    "\n",
    "sb.distplot(mu['bcZ_pt']-mu['bc_pt'], kde=False, color='r', norm_hist=True, label= 'pZ reco')\n",
    "sb.distplot(mu['bcT_pt']-mu['bc_pt'], kde=False, color='b', norm_hist=True, label='pT reco')\n",
    "sb.distplot(mu['bcComb_pt']-mu['bc_pt'], kde=False, color='y', norm_hist=True, label='comb reco')\n",
    "plt.xlabel('$\\mu$ channel Bc pT [GeV]')\n",
    "plt.ylabel('n_ev')\n",
    "plt.show()\n",
    "\n",
    "sb.distplot(tau['bcZ_mass']-tau['bc_mass'], kde=False, color='r', norm_hist=True, label= 'pZ reco')\n",
    "sb.distplot(tau['bcT_mass']-tau['bc_mass'], kde=False, color='b', norm_hist=True, label='pT reco')\n",
    "sb.distplot(tau['bcComb_mass']-tau['bc_mass'], kde=False, color='y', norm_hist=True, label='comb reco')\n",
    "plt.xlabel('$\\tau$ channel Bc mass [GeV/c^2]')\n",
    "plt.ylabel('n_ev')\n",
    "plt.show()\n",
    "\n",
    "sb.distplot(tau['bcZ_pt']-tau['bc_pt'], kde=False, color='r', norm_hist=True, label= 'pZ reco')\n",
    "sb.distplot(tau['bcT_pt']-tau['bc_pt'], kde=False, color='b', norm_hist=True, label='pT reco')\n",
    "sb.distplot(tau['bcComb_pt']-tau['bc_pt'], kde=False, color='y', norm_hist=True, label='comb reco')\n",
    "plt.xlabel('$\\tau$ channel Bc pT [GeV]')\n",
    "plt.ylabel('n_ev')\n",
    "plt.show()"
   ]
  },
  {
   "cell_type": "code",
   "execution_count": 36,
   "metadata": {},
   "outputs": [
    {
     "name": "stdout",
     "output_type": "stream",
     "text": [
      "pZ reconstruction lifetime = 1.3382\n",
      "pT reconstruction lifetime = 0.4471\n",
      "comb reconstruction lifetime = 0.4433\n"
     ]
    }
   ],
   "source": [
    "###############################################################################\n",
    "### COMPARE THE LIFETIME RECO OF THE THREE DIFFERENT RECONSTRUCTION METHODS ###\n",
    "###############################################################################\n",
    "\n",
    "totT = tau['bcT_CT'].sum() + mu['bcT_CT'].sum()\n",
    "totComb = tau['bcComb_CT'].sum() + mu['bcComb_CT'].sum()\n",
    "totZ = tau['bcZ_CT'].sum() + mu['bcZ_CT'].sum()\n",
    "\n",
    "\n",
    "print 'pZ reconstruction lifetime = %.4f'%((totZ/c)*1e12/(tau['bcZ_CT'].count()+mu['bcZ_CT'].count()))\n",
    "print 'pT reconstruction lifetime = %.4f'%((totT/c)*1e12/(tau['bcT_CT'].count()+mu['bcT_CT'].count()))\n",
    "print 'comb reconstruction lifetime = %.4f'%((totComb/c)*1e12/(tau['bcComb_CT'].count()+mu['bcComb_CT'].count()))"
   ]
  },
  {
   "cell_type": "code",
   "execution_count": 48,
   "metadata": {},
   "outputs": [
    {
     "data": {
      "image/png": "[encoded data removed]",
      "text/plain": [
       "<Figure size 432x288 with 1 Axes>"
      ]
     },
     "metadata": {
      "needs_background": "light"
     },
     "output_type": "display_data"
    }
   ],
   "source": [
    "###########################################################################\n",
    "### FIT THE LIFETIME RECO OF THE THREE DIFFERENT RECONSTRUCTION METHODS ###\n",
    "###########################################################################\n",
    "\n",
    "\n",
    "from scipy import optimize\n",
    "from pylab import exp\n",
    "def Exp(x,a,norm):\n",
    "    return norm * exp(-a*x)\n",
    "\n",
    "\n",
    "sb.distplot(tau['bcZ_CT'], kde=False, color='r', norm_hist=True, label= 'pZ reco')\n",
    "plt.xlabel('pZ reco Bc CT [m]')\n",
    "plt.ylabel('n_ev')\n",
    "plt.show()"
   ]
  },
  {
   "cell_type": "code",
   "execution_count": 49,
   "metadata": {},
   "outputs": [
    {
     "name": "stderr",
     "output_type": "stream",
     "text": [
      "ERROR:root:Internal Python error in the inspect module.\n",
      "Below is the traceback from this internal error.\n",
      "\n"
     ]
    },
    {
     "name": "stdout",
     "output_type": "stream",
     "text": [
      "best fitted parameters (exp,norm) :  (array([7830.18962445, 5852.11333054]), array([[330.14619727,  64.64530567],\n",
      "       [ 64.64530567,  53.77020122]])) \n",
      "\n",
      "Traceback (most recent call last):\n",
      "  File \"/Users/jonamotta/anaconda3/envs/python_root/lib/python2.7/site-packages/IPython/core/ultratb.py\", line 1132, in get_records\n",
      "  File \"/Users/jonamotta/anaconda3/envs/python_root/lib/python2.7/site-packages/IPython/core/ultratb.py\", line 313, in wrapped\n",
      "  File \"/Users/jonamotta/anaconda3/envs/python_root/lib/python2.7/site-packages/IPython/core/ultratb.py\", line 358, in _fixed_getinnerframes\n",
      "  File \"/Users/jonamotta/anaconda3/envs/python_root/lib/python2.7/inspect.py\", line 1051, in getinnerframes\n",
      "  File \"/Users/jonamotta/anaconda3/envs/python_root/lib/python2.7/inspect.py\", line 1011, in getframeinfo\n",
      "  File \"/Users/jonamotta/anaconda3/envs/python_root/lib/python2.7/inspect.py\", line 453, in getsourcefile\n",
      "  File \"/Users/jonamotta/anaconda3/envs/python_root/lib/python2.7/inspect.py\", line 482, in getmodule\n",
      "  File \"/Users/jonamotta/anaconda3/envs/python_root/lib/python2.7/inspect.py\", line 466, in getabsfile\n",
      "  File \"/Users/jonamotta/anaconda3/envs/python_root/lib/python2.7/posixpath.py\", line 364, in abspath\n",
      "OSError: [Errno 24] Too many open files\n"
     ]
    },
    {
     "ename": "IndexError",
     "evalue": "string index out of range",
     "output_type": "error",
     "traceback": [
      "\u001b[0;31m---------------------------------------------------------------------------\u001b[0m",
      "\u001b[0;31mIndexError\u001b[0m                                Traceback (most recent call last)",
      "\u001b[0;32m/Users/jonamotta/anaconda3/envs/python_root/lib/python2.7/site-packages/IPython/core/interactiveshell.pyc\u001b[0m in \u001b[0;36mrun_code\u001b[0;34m(self, code_obj, result)\u001b[0m\n\u001b[1;32m   2893\u001b[0m             \u001b[0;32mif\u001b[0m \u001b[0mresult\u001b[0m \u001b[0;32mis\u001b[0m \u001b[0;32mnot\u001b[0m \u001b[0mNone\u001b[0m\u001b[0;34m:\u001b[0m\u001b[0;34m\u001b[0m\u001b[0m\n\u001b[1;32m   2894\u001b[0m                 \u001b[0mresult\u001b[0m\u001b[0;34m.\u001b[0m\u001b[0merror_in_exec\u001b[0m \u001b[0;34m=\u001b[0m \u001b[0msys\u001b[0m\u001b[0;34m.\u001b[0m\u001b[0mexc_info\u001b[0m\u001b[0;34m(\u001b[0m\u001b[0;34m)\u001b[0m\u001b[0;34m[\u001b[0m\u001b[0;36m1\u001b[0m\u001b[0;34m]\u001b[0m\u001b[0;34m\u001b[0m\u001b[0m\n\u001b[0;32m-> 2895\u001b[0;31m             \u001b[0mself\u001b[0m\u001b[0;34m.\u001b[0m\u001b[0mshowtraceback\u001b[0m\u001b[0;34m(\u001b[0m\u001b[0;34m)\u001b[0m\u001b[0;34m\u001b[0m\u001b[0m\n\u001b[0m\u001b[1;32m   2896\u001b[0m         \u001b[0;32melse\u001b[0m\u001b[0;34m:\u001b[0m\u001b[0;34m\u001b[0m\u001b[0m\n\u001b[1;32m   2897\u001b[0m             \u001b[0moutflag\u001b[0m \u001b[0;34m=\u001b[0m \u001b[0;36m0\u001b[0m\u001b[0;34m\u001b[0m\u001b[0m\n",
      "\u001b[0;32m/Users/jonamotta/anaconda3/envs/python_root/lib/python2.7/site-packages/IPython/core/interactiveshell.pyc\u001b[0m in \u001b[0;36mshowtraceback\u001b[0;34m(self, exc_tuple, filename, tb_offset, exception_only)\u001b[0m\n\u001b[1;32m   1824\u001b[0m                     \u001b[0;32mexcept\u001b[0m \u001b[0mException\u001b[0m\u001b[0;34m:\u001b[0m\u001b[0;34m\u001b[0m\u001b[0m\n\u001b[1;32m   1825\u001b[0m                         stb = self.InteractiveTB.structured_traceback(etype,\n\u001b[0;32m-> 1826\u001b[0;31m                                             value, tb, tb_offset=tb_offset)\n\u001b[0m\u001b[1;32m   1827\u001b[0m \u001b[0;34m\u001b[0m\u001b[0m\n\u001b[1;32m   1828\u001b[0m                     \u001b[0mself\u001b[0m\u001b[0;34m.\u001b[0m\u001b[0m_showtraceback\u001b[0m\u001b[0;34m(\u001b[0m\u001b[0metype\u001b[0m\u001b[0;34m,\u001b[0m \u001b[0mvalue\u001b[0m\u001b[0;34m,\u001b[0m \u001b[0mstb\u001b[0m\u001b[0;34m)\u001b[0m\u001b[0;34m\u001b[0m\u001b[0m\n",
      "\u001b[0;32m/Users/jonamotta/anaconda3/envs/python_root/lib/python2.7/site-packages/IPython/core/ultratb.pyc\u001b[0m in \u001b[0;36mstructured_traceback\u001b[0;34m(self, etype, value, tb, tb_offset, number_of_lines_of_context)\u001b[0m\n",
      "\u001b[0;32m/Users/jonamotta/anaconda3/envs/python_root/lib/python2.7/site-packages/IPython/core/ultratb.pyc\u001b[0m in \u001b[0;36mstructured_traceback\u001b[0;34m(self, etype, value, tb, tb_offset, number_of_lines_of_context)\u001b[0m\n",
      "\u001b[0;32m/Users/jonamotta/anaconda3/envs/python_root/lib/python2.7/site-packages/IPython/core/ultratb.pyc\u001b[0m in \u001b[0;36mstructured_traceback\u001b[0;34m(self, etype, evalue, etb, tb_offset, number_of_lines_of_context)\u001b[0m\n",
      "\u001b[0;31mIndexError\u001b[0m: string index out of range"
     ]
    },
    {
     "data": {
      "image/png": "[encoded data removed]",
      "text/plain": [
       "<Figure size 432x288 with 1 Axes>"
      ]
     },
     "metadata": {
      "needs_background": "light"
     },
     "output_type": "display_data"
    }
   ],
   "source": [
    "bins = 100\n",
    "binned_data,bins_edges,patches = plt.hist(mu['bcT_CT'], bins=bins, density=True, color='b', label='pT reco')\n",
    "plt.xlabel('pT reco Bc CT [m]')\n",
    "plt.ylabel('n_ev')\n",
    "x_eval = np.delete(bins_edges,99)\n",
    "popt = optimize.curve_fit(Exp,x_eval,binned_data)\n",
    "print 'best fitted parameters (exp,norm) : ', popt,'\\n'\n",
    "plt.plot(bins_edges,Exp(bins_edges,popt[0],popt[1]),'r',label='exp fit')\n",
    "plt.legend()\n",
    "plt.show()\n",
    "\n",
    "print popt[0]/c"
   ]
  },
  {
   "cell_type": "code",
   "execution_count": 46,
   "metadata": {},
   "outputs": [
    {
     "name": "stdout",
     "output_type": "stream",
     "text": [
      "best fitted parameters (Norm,exp) :  (array([-791.39135396]), array([[1.02366591e+08]])) \n",
      "\n"
     ]
    },
    {
     "data": {
      "image/png": "[encoded data removed]",
      "text/plain": [
       "<Figure size 432x288 with 1 Axes>"
      ]
     },
     "metadata": {
      "needs_background": "light"
     },
     "output_type": "display_data"
    },
    {
     "name": "stdout",
     "output_type": "stream",
     "text": [
      "[-2.64679383e-06]\n"
     ]
    }
   ],
   "source": [
    "binned_data,bins_edges,patches = plt.hist(mu['bcComb_CT'], bins=bins, density=True, color='b', label='pT reco')\n",
    "plt.xlabel('comb reco Bc CT [m]')\n",
    "plt.ylabel('n_ev')\n",
    "x_eval = np.delete(bins_edges,99)\n",
    "popt = optimize.curve_fit(Exp,x_eval,binned_data)\n",
    "print 'best fitted parameters (Norm,exp) : ', popt,'\\n'\n",
    "plt.plot(bins_edges,Exp(bins_edges,popt[0]),'r',label='exp fit')\n",
    "plt.legend()\n",
    "plt.show()\n",
    "\n",
    "print popt[0]/c"
   ]
  },
  {
   "cell_type": "code",
   "execution_count": null,
   "metadata": {},
   "outputs": [],
   "source": []
  }
 ],
 "metadata": {
  "kernelspec": {
   "display_name": "Python 2",
   "language": "python",
   "name": "python2"
  },
  "language_info": {
   "codemirror_mode": {
    "name": "ipython",
    "version": 2
   },
   "file_extension": ".py",
   "mimetype": "text/x-python",
   "name": "python",
   "nbconvert_exporter": "python",
   "pygments_lexer": "ipython2",
   "version": "2.7.15"
  }
 },
 "nbformat": 4,
 "nbformat_minor": 2
}
