{
 "cells": [
  {
   "cell_type": "code",
   "execution_count": 1,
   "metadata": {},
   "outputs": [],
   "source": [
    "import numpy as np\n",
    "import pandas as pd"
   ]
  },
  {
   "cell_type": "code",
   "execution_count": 2,
   "metadata": {},
   "outputs": [],
   "source": [
    "mu_NOCUT = pd.read_csv('mu_events_NOCUT.csv')\n",
    "tau_NOCUT = pd.read_csv('tau_events_NOCUT.csv')\n",
    "\n",
    "mu_CUT = pd.read_csv('mu_events_CUT.csv')\n",
    "tau_CUT = pd.read_csv('tau_events_CUT.csv')"
   ]
  },
  {
   "cell_type": "code",
   "execution_count": 3,
   "metadata": {},
   "outputs": [],
   "source": [
    "# total number of events produced by the MC simulation\n",
    "n_totMC_mu = mu_NOCUT['mu_pt'].count()\n",
    "n_totMC_tau = tau_NOCUT['mu_pt'].count()\n",
    "\n",
    "# number of events that passed the experimental cuts\n",
    "n_norm_MC = mu_CUT['mu_pt'].count()\n",
    "n_signal_MC = tau_CUT['mu_pt'].count()\n",
    "\n",
    "# number of Bc events observed by CMS as taken from the Bc(2S) paper where Bc->jpsi+pi\n",
    "n_obs_cms = 7629 \n",
    "# account for the different branching ratio of Bc to pi or to mu\n",
    "n_norm_data = n_obs_cms / 4.96e-2 \n",
    "# account for the different branching ratio of Bc to pi or to mu and for the SM prediction of LFU\n",
    "n_signal_data_SM = n_obs_cms * 0.265 * 0.17 / 4.96e-2 \n",
    "# account for the different branching ratio of Bc to pi or to mu and for the experimental LFNU\n",
    "n_signal_data_LFNU = n_obs_cms * 0.71 * 0.17 / 4.96e-2 "
   ]
  },
  {
   "cell_type": "code",
   "execution_count": 4,
   "metadata": {},
   "outputs": [
    {
     "name": "stdout",
     "output_type": "stream",
     "text": [
      "MU SCALE FACTOR =  58.71294054781682\n"
     ]
    }
   ],
   "source": [
    "#################################\n",
    "### CALCULATE MU SCALE FACTOR ###\n",
    "#################################\n",
    "\n",
    "# we have to account for the muon ID efficiency\n",
    "mu_scale_factor = n_norm_data / (n_norm_MC*0.96**3)\n",
    "\n",
    "print 'MU SCALE FACTOR = ', mu_scale_factor"
   ]
  },
  {
   "cell_type": "code",
   "execution_count": 5,
   "metadata": {},
   "outputs": [
    {
     "name": "stdout",
     "output_type": "stream",
     "text": [
      "TAU SCALE FACTOR IN SM PREDICTION =  292.02966511770853\n",
      "TAU SCALE FACTOR IN LFNU PREDICTION =  292.0296651177086\n"
     ]
    }
   ],
   "source": [
    "##################################\n",
    "### CALCULATE TAU SCALE FACTOR ###\n",
    "##################################\n",
    "\n",
    "\n",
    "# we have to account for the different luminosity at which the MC simulations were produced\n",
    "MClumi_scale_factor_SM = n_totMC_mu * 0.265 * 0.17 / n_totMC_tau\n",
    "MClumi_scale_factor_LFNU = n_totMC_mu * 0.71 * 0.17 / n_totMC_tau\n",
    "tau_scale_factor_SM = n_signal_data_SM / (n_signal_MC*MClumi_scale_factor_SM*0.96**3)\n",
    "tau_scale_factor_LFNU = n_signal_data_LFNU / (n_signal_MC*MClumi_scale_factor_LFNU*0.96**3)\n",
    "\n",
    "print 'TAU SCALE FACTOR IN SM PREDICTION = ', tau_scale_factor_SM\n",
    "print 'TAU SCALE FACTOR IN LFNU PREDICTION = ', tau_scale_factor_LFNU"
   ]
  },
  {
   "cell_type": "code",
   "execution_count": 6,
   "metadata": {},
   "outputs": [
    {
     "name": "stdout",
     "output_type": "stream",
     "text": [
      "TAU SCALE FACTOR IN SM PREDICTION =  9.601300182439413\n",
      "TAU SCALE FACTOR IN LFNU PREDICTION =  25.724238224648985\n"
     ]
    }
   ],
   "source": [
    "print 'TAU SCALE FACTOR IN SM PREDICTION = ', mu_scale_factor * n_totMC_mu * 0.17 * 0.265 / n_totMC_tau\n",
    "print 'TAU SCALE FACTOR IN LFNU PREDICTION = ', mu_scale_factor * n_totMC_mu * 0.17 * 0.71 / n_totMC_tau"
   ]
  },
  {
   "cell_type": "code",
   "execution_count": 8,
   "metadata": {},
   "outputs": [
    {
     "name": "stdout",
     "output_type": "stream",
     "text": [
      "Expected signal events at Run2 luminosity =  47892.86507930421\n",
      "Expected normalixzation events at Run2 luminosity =  173849.01696208562\n"
     ]
    }
   ],
   "source": [
    "print 'Expected signal events at Run2 luminosity = ', n_signal_MC * tau_scale_factor_LFNU\n",
    "print 'Expected normalixzation events at Run2 luminosity = ', n_norm_MC * mu_scale_factor"
   ]
  },
  {
   "cell_type": "code",
   "execution_count": null,
   "metadata": {},
   "outputs": [],
   "source": []
  }
 ],
 "metadata": {
  "kernelspec": {
   "display_name": "Python 2",
   "language": "python",
   "name": "python2"
  },
  "language_info": {
   "codemirror_mode": {
    "name": "ipython",
    "version": 2
   },
   "file_extension": ".py",
   "mimetype": "text/x-python",
   "name": "python",
   "nbconvert_exporter": "python",
   "pygments_lexer": "ipython2",
   "version": "2.7.15"
  }
 },
 "nbformat": 4,
 "nbformat_minor": 2
}
