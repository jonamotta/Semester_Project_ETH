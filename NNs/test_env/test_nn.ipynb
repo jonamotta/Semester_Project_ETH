{
 "cells": [
  {
   "cell_type": "code",
   "execution_count": 1,
   "metadata": {},
   "outputs": [
    {
     "name": "stdout",
     "output_type": "stream",
     "text": [
      "Welcome to JupyROOT 6.16/00\n"
     ]
    },
    {
     "name": "stderr",
     "output_type": "stream",
     "text": [
      "/Users/jonamotta/anaconda3/envs/python_root/lib/python2.7/site-packages/root_numpy/__init__.py:46: RuntimeWarning: numpy 1.16.3 is currently installed but you installed root_numpy against numpy 1.9.3. Please consider reinstalling root_numpy for this numpy version.\n",
      "  RuntimeWarning)\n",
      "Using TensorFlow backend.\n"
     ]
    }
   ],
   "source": [
    "import sys\n",
    "import ROOT\n",
    "import numpy as np\n",
    "import pandas as pd\n",
    "import root_pandas\n",
    "import seaborn as sb\n",
    "import matplotlib.pyplot as plt\n",
    "plt.rc('text', usetex=True)\n",
    "import uproot\n",
    "import time\n",
    "\n",
    "from itertools import product\n",
    "\n",
    "#from root_numpy import root2array\n",
    "\n",
    "from keras.models import Sequential\n",
    "from keras.layers import Dense\n",
    "\n",
    "from sklearn.model_selection import train_test_split\n",
    "from sklearn.metrics import roc_curve, roc_auc_score, auc"
   ]
  },
  {
   "cell_type": "code",
   "execution_count": 2,
   "metadata": {},
   "outputs": [],
   "source": [
    "########################################\n",
    "### READ TREES AND CREATE DATAFRAMES ###\n",
    "########################################\n",
    "\n",
    "\n",
    "# fix random seed for reproducibility\n",
    "np.random.seed(1986)\n",
    "\n",
    "#create DataFrames with the values coming from the trees\n",
    "file_tau = uproot.open('../bc_jpsi_tau_nu_gen.root')\n",
    "tree_tau = file_tau['tree;1']\n",
    "tau  = tree_tau.pandas.df(tree_tau.keys())\n",
    "\n",
    "file_mu = uproot.open('../bc_jpsi_mu_nu_gen.root')\n",
    "tree_mu = file_mu['tree;1']\n",
    "mu  = tree_mu.pandas.df(tree_mu.keys())"
   ]
  },
  {
   "cell_type": "code",
   "execution_count": 3,
   "metadata": {},
   "outputs": [
    {
     "name": "stdout",
     "output_type": "stream",
     "text": [
      "Running time to add the three new vars to the df = 490.1\n"
     ]
    }
   ],
   "source": [
    "############################################\n",
    "### ADD NECESSARY FEATURES TO DATAFRAMES ###\n",
    "############################################\n",
    "\n",
    "\n",
    "#add the column target to both dataframes\n",
    "mu ['target'] = 0\n",
    "tau['target'] = 1\n",
    "\n",
    "#add the columns of interesting features (taken from LHCb paper)\n",
    "mu['m2_miss'] = 0 #missing mass square (p_B - p_mu1 - p_mu2 - p_mu)^2\n",
    "tau['m2_miss'] = 0 \n",
    "mu['muE_Brf'] = 0 #mu energy in the Bc rest frame\n",
    "tau['muE_Brf'] = 0 \n",
    "mu['q2'] = 0 #squared 4momentum transfer to lepton sys (p_B - p_mu1 - p_mu2)^2\n",
    "tau['q2'] = 0\n",
    "mu['pT_miss'] = 0 #misisng pT of the final state \n",
    "tau['pT_miss'] = 0\n",
    "\n",
    "bc_vect = ROOT.TLorentzVector()\n",
    "jpsi_vect = ROOT.TLorentzVector()\n",
    "mu_vect = ROOT.TLorentzVector()\n",
    "mu1_vect = ROOT.TLorentzVector()\n",
    "mu2_vect = ROOT.TLorentzVector()\n",
    "mu_mass = 0.10565837 #GeV/c^2\n",
    "c = 2.99e8 #m/s\n",
    "\n",
    "\n",
    "start = time.time()\n",
    "i = 0\n",
    "while i < mu['run'].count():\n",
    "    bc_vect.SetPtEtaPhiM(mu.at[i,'bc_pt'],mu.at[i,'bc_eta'],mu.at[i,'bc_phi'],mu.at[i,'bc_mass'])\n",
    "    mu_vect.SetPtEtaPhiM(mu.at[i,'mu_pt'],mu.at[i,'mu_eta'],mu.at[i,'mu_phi'],mu_mass)\n",
    "    mu1_vect.SetPtEtaPhiM(mu.at[i,'mu1_pt'],mu.at[i,'mu1_eta'],mu.at[i,'mu1_phi'],mu_mass)\n",
    "    mu2_vect.SetPtEtaPhiM(mu.at[i,'mu2_pt'],mu.at[i,'mu2_eta'],mu.at[i,'mu2_phi'],mu_mass)\n",
    "    \n",
    "    m2_vect = bc_vect - mu1_vect - mu2_vect - mu_vect\n",
    "    q2_vect = bc_vect - mu1_vect - mu2_vect \n",
    "    \n",
    "    mu.at[i,'m2_miss'] = m2_vect.Mag2()\n",
    "    mu.at[i,'q2'] = q2_vect.Mag2()\n",
    "    mu.at[i,'muE_Brf'] = mu_vect.E() * np.cosh(mu_vect.Rapidity() - bc_vect.Rapidity())\n",
    "    mu.at[i,'pT_miss'] = m2_vect.Pt()\n",
    "    \n",
    "    i += 1\n",
    "    \n",
    "i = 0\n",
    "while i < tau['run'].count():\n",
    "    bc_vect.SetPtEtaPhiM(tau.at[i,'bc_pt'],tau.at[i,'bc_eta'],tau.at[i,'bc_phi'],tau.at[i,'bc_mass'])\n",
    "    mu_vect.SetPtEtaPhiM(tau.at[i,'mu_pt'],tau.at[i,'mu_eta'],tau.at[i,'mu_phi'],mu_mass)\n",
    "    mu1_vect.SetPtEtaPhiM(tau.at[i,'mu1_pt'],tau.at[i,'mu1_eta'],tau.at[i,'mu1_phi'],mu_mass)\n",
    "    mu2_vect.SetPtEtaPhiM(tau.at[i,'mu2_pt'],tau.at[i,'mu2_eta'],tau.at[i,'mu2_phi'],mu_mass)\n",
    "    \n",
    "    m2_vect = bc_vect - mu1_vect - mu2_vect - mu_vect\n",
    "    q2_vect = bc_vect - mu1_vect - mu2_vect\n",
    "    \n",
    "    tau.at[i,'m2_miss'] = m2_vect.Mag2()\n",
    "    tau.at[i,'q2'] = q2_vect.Mag2()\n",
    "    tau.at[i,'muE_Brf'] = mu_vect.E() * np.cosh(mu_vect.Rapidity() - bc_vect.Rapidity())\n",
    "    tau.at[i,'pT_miss'] = m2_vect.Pt()\n",
    "    \n",
    "    i += 1\n",
    "    \n",
    "end = time.time()\n",
    "print 'Running time to add the three new vars to the df = %.1f'%(end - start)"
   ]
  },
  {
   "cell_type": "code",
   "execution_count": 20,
   "metadata": {},
   "outputs": [
    {
     "name": "stdout",
     "output_type": "stream",
     "text": [
      "Train on 48422 samples, validate on 48422 samples\n",
      "Epoch 1/10\n",
      "48422/48422 [==============================] - 9s 183us/step - loss: 0.5712 - acc: 0.6938 - val_loss: 0.5629 - val_acc: 0.7040\n",
      "Epoch 2/10\n",
      "48422/48422 [==============================] - 8s 166us/step - loss: 0.5585 - acc: 0.7092 - val_loss: 0.5616 - val_acc: 0.7040\n",
      "Epoch 3/10\n",
      "48422/48422 [==============================] - 8s 166us/step - loss: 0.5533 - acc: 0.7162 - val_loss: 0.5510 - val_acc: 0.7189\n",
      "Epoch 4/10\n",
      "48422/48422 [==============================] - 8s 168us/step - loss: 0.5466 - acc: 0.7248 - val_loss: 0.5430 - val_acc: 0.7275\n",
      "Epoch 5/10\n",
      "48422/48422 [==============================] - 8s 166us/step - loss: 0.5374 - acc: 0.7331 - val_loss: 0.5357 - val_acc: 0.7306\n",
      "Epoch 6/10\n",
      "48422/48422 [==============================] - 8s 166us/step - loss: 0.5263 - acc: 0.7399 - val_loss: 0.5230 - val_acc: 0.7455\n",
      "Epoch 7/10\n",
      "48422/48422 [==============================] - 8s 166us/step - loss: 0.5120 - acc: 0.7533 - val_loss: 0.5045 - val_acc: 0.7623\n",
      "Epoch 8/10\n",
      "48422/48422 [==============================] - 8s 166us/step - loss: 0.4942 - acc: 0.7692 - val_loss: 0.4881 - val_acc: 0.7712\n",
      "Epoch 9/10\n",
      "48422/48422 [==============================] - 8s 166us/step - loss: 0.4831 - acc: 0.7756 - val_loss: 0.4790 - val_acc: 0.7755\n",
      "Epoch 10/10\n",
      "48422/48422 [==============================] - 8s 166us/step - loss: 0.4760 - acc: 0.7807 - val_loss: 0.4698 - val_acc: 0.7820\n",
      "96844/96844 [==============================] - 2s 16us/step\n",
      "\n",
      "loss: 46.88%\n",
      "acc: 78.28%\n",
      "predicting on 548784 events\n"
     ]
    },
    {
     "data": {
      "image/png": "[encoded data removed]",
      "text/plain": [
       "<Figure size 432x288 with 1 Axes>"
      ]
     },
     "metadata": {
      "needs_background": "light"
     },
     "output_type": "display_data"
    },
    {
     "data": {
      "image/png": "[encoded data removed]",
      "text/plain": [
       "<Figure size 432x288 with 1 Axes>"
      ]
     },
     "metadata": {
      "needs_background": "light"
     },
     "output_type": "display_data"
    },
    {
     "name": "stdout",
     "output_type": "stream",
     "text": [
      "AUC = 0.8228408305623924\n",
      "Gini index = 0.6456816611247849\n"
     ]
    },
    {
     "data": {
      "text/plain": [
       "<Figure size 432x288 with 0 Axes>"
      ]
     },
     "metadata": {},
     "output_type": "display_data"
    }
   ],
   "source": [
    "############################################################################\n",
    "### TRAINING AND TESTING OF THE NN WITHOUTH THE VARIABLE WE WANT TO TEST ### \n",
    "############################################################################\n",
    "\n",
    "\n",
    "\n",
    "### PREPARE DFs FOR TRAINING AND TEST ###\n",
    "\n",
    "#these features are taken from the LHCb paper and have to be computed and added to the dataframes\n",
    "features = [\n",
    "    #'m2_miss', #missing mass square (p_B - p_mu1 - p_mu2 - p_mu)^2\n",
    "    #'muE_Brf', #mu energy in the Bc rest frame\n",
    "    #'q2', #squared 4momentum transfer to lepton sys (p_B - p_Jpsi^2)\n",
    "    #'pT_miss',\n",
    "    'mu_pt'     ,\n",
    "    'mu_eta'    ,\n",
    "    'mu_phi'    ,\n",
    "    'mu_charge' ,\n",
    "    'mu1_pt'    ,\n",
    "    'mu1_eta'   ,\n",
    "    'mu1_phi'   ,\n",
    "    'mu1_charge',\n",
    "    'mu2_pt'    ,\n",
    "    'mu2_eta'   ,\n",
    "    'mu2_phi'   ,\n",
    "    'mu2_charge',\n",
    "]\n",
    "\n",
    "# concatenate the two samples\n",
    "dataset = pd.concat([mu, tau],sort=False)\n",
    "\n",
    "# shuffle and split train/test\n",
    "train, test = train_test_split(dataset, test_size=0.85, random_state=1986, shuffle=True)\n",
    "\n",
    "# X and Y on the training sample\n",
    "X = pd.DataFrame(train, columns=features)\n",
    "Y = pd.DataFrame(train, columns=['target'])\n",
    "\n",
    "\n",
    "\n",
    "### DEFINE THE MODEL ###\n",
    "\n",
    "# define the model\n",
    "model = Sequential()\n",
    "model.add(Dense(12, input_dim=len(features), activation='relu'))\n",
    "model.add(Dense(8, activation='relu'))\n",
    "model.add(Dense(1, activation='sigmoid'))\n",
    "\n",
    "# compile the model\n",
    "model.compile(loss='binary_crossentropy', optimizer='adam', metrics=['accuracy'])\n",
    "\n",
    "\n",
    "\n",
    "### TRAIN THE MODEL ###\n",
    "\n",
    "# fit the model\n",
    "model.fit(X, Y, epochs=10, batch_size=10, validation_split=0.5)\n",
    "\n",
    "\n",
    "\n",
    "### TEST THE TRAINING OF THE MODEL ###\n",
    "\n",
    "# evaluate the model\n",
    "scores = model.evaluate(X, Y)\n",
    "print(\"\\n%s: %.2f%%\" % (model.metrics_names[0], scores[0]*100))\n",
    "print(\"%s: %.2f%%\" % (model.metrics_names[1], scores[1]*100))\n",
    "\n",
    "# calculate predictions on the test sample\n",
    "print 'predicting on', test.shape[0], 'events'\n",
    "x = pd.DataFrame(test, columns=features)\n",
    "y = model.predict(x)\n",
    "\n",
    "# add the score to the test sample dataframe\n",
    "test.insert(len(test.columns), 'nn_score', y)\n",
    "\n",
    "\n",
    "\n",
    "### ROC & SCORE CURVES ###\n",
    "\n",
    "# let sklearn do the heavy lifting and compute the ROC curves for you\n",
    "fpr, tpr, wps = roc_curve(test.target, test.nn_score)\n",
    "\n",
    "# plot\n",
    "plt.plot(fpr, tpr, label=r'$\\mu$ vs. $\\tau$ NN', color='b')\n",
    "# plot also the diagonal, that corresponds to random picks, no discrimination power\n",
    "xy = [i*j for i,j in product([10.**i for i in range(-8, 0)], [1,2,4,8])]+[1]\n",
    "plt.plot(xy, xy, color='grey', linestyle='--', label='no-discrimination curve')\n",
    "# cosmetics\n",
    "plt.title('ROC curve')\n",
    "plt.xlabel(r'$\\epsilon(\\tau)$')\n",
    "plt.ylabel(r'$\\epsilon(\\mu)$')\n",
    "# axis range\n",
    "plt.xlim([0.0, 1.0])\n",
    "plt.ylim([0.0, 1.0])\n",
    "# grid\n",
    "plt.grid(True)\n",
    "# legend\n",
    "plt.legend(loc='best')\n",
    "# save figure and then clean it\n",
    "plt.savefig('roc_no_test.pdf')\n",
    "plt.show()\n",
    "#plt.clf()\n",
    "\n",
    "# plot the discriminator shape for the muon and tau channel\n",
    "test_tau = test[test.tau_pt>=0]\n",
    "test_mu  = test[test.tau_pt <0]\n",
    "sb.distplot(test_tau['nn_score'], kde=False, norm_hist=True, label=r'$\\tau\\to\\mu$ channel', color='b')\n",
    "sb.distplot(test_mu ['nn_score'], kde=False, norm_hist=True, label=r'$\\mu$ channel' , color='r')\n",
    "plt.title('Classifier distribution')\n",
    "plt.xlabel('classifier score')\n",
    "plt.ylabel('a.u.')\n",
    "plt.xlim([0.0, 1.0])\n",
    "plt.legend(loc='upper right')\n",
    "plt.savefig('score_no_test.pdf')\n",
    "plt.show()\n",
    "plt.clf()\n",
    "\n",
    "# compute the auc\n",
    "auroc1 = auc(fpr, tpr)\n",
    "print \"AUC =\", auroc1 \n",
    "\n",
    "# compute Gini index\n",
    "print \"Gini index =\", (auroc1-0.5)*2"
   ]
  },
  {
   "cell_type": "code",
   "execution_count": 21,
   "metadata": {},
   "outputs": [
    {
     "name": "stdout",
     "output_type": "stream",
     "text": [
      "Train on 48422 samples, validate on 48422 samples\n",
      "Epoch 1/10\n",
      "48422/48422 [==============================] - 9s 186us/step - loss: 0.1854 - acc: 0.9473 - val_loss: 0.1604 - val_acc: 0.9598\n",
      "Epoch 2/10\n",
      "48422/48422 [==============================] - 8s 171us/step - loss: 0.1529 - acc: 0.9616 - val_loss: 0.1578 - val_acc: 0.9600\n",
      "Epoch 3/10\n",
      "48422/48422 [==============================] - 8s 171us/step - loss: 0.1506 - acc: 0.9616 - val_loss: 0.1543 - val_acc: 0.9601\n",
      "Epoch 4/10\n",
      "48422/48422 [==============================] - 9s 181us/step - loss: 0.1489 - acc: 0.9620 - val_loss: 0.1530 - val_acc: 0.9604\n",
      "Epoch 5/10\n",
      "48422/48422 [==============================] - 8s 174us/step - loss: 0.1481 - acc: 0.9622 - val_loss: 0.1542 - val_acc: 0.9603\n",
      "Epoch 6/10\n",
      "48422/48422 [==============================] - 8s 174us/step - loss: 0.1474 - acc: 0.9624 - val_loss: 0.1512 - val_acc: 0.9608\n",
      "Epoch 7/10\n",
      "48422/48422 [==============================] - 9s 176us/step - loss: 0.1467 - acc: 0.9624 - val_loss: 0.1551 - val_acc: 0.9606\n",
      "Epoch 8/10\n",
      "48422/48422 [==============================] - 8s 174us/step - loss: 0.1465 - acc: 0.9625 - val_loss: 0.1512 - val_acc: 0.9610ss: 0.1471 - acc:\n",
      "Epoch 9/10\n",
      "48422/48422 [==============================] - 8s 175us/step - loss: 0.1465 - acc: 0.9625 - val_loss: 0.1517 - val_acc: 0.9609\n",
      "Epoch 10/10\n",
      "48422/48422 [==============================] - 9s 176us/step - loss: 0.1459 - acc: 0.9627 - val_loss: 0.1512 - val_acc: 0.9609\n",
      "96844/96844 [==============================] - 2s 18us/step\n",
      "\n",
      "loss: 14.77%\n",
      "acc: 96.18%\n",
      "predicting on 548784 events\n"
     ]
    },
    {
     "data": {
      "image/png": "[encoded data removed]",
      "text/plain": [
       "<Figure size 432x288 with 1 Axes>"
      ]
     },
     "metadata": {
      "needs_background": "light"
     },
     "output_type": "display_data"
    },
    {
     "data": {
      "image/png": "[encoded data removed]",
      "text/plain": [
       "<Figure size 432x288 with 1 Axes>"
      ]
     },
     "metadata": {
      "needs_background": "light"
     },
     "output_type": "display_data"
    },
    {
     "name": "stdout",
     "output_type": "stream",
     "text": [
      "AUC = 0.9673062180597911\n",
      "Gini index = 0.9346124361195822\n"
     ]
    },
    {
     "data": {
      "text/plain": [
       "<Figure size 432x288 with 0 Axes>"
      ]
     },
     "metadata": {},
     "output_type": "display_data"
    }
   ],
   "source": [
    "########################################################################\n",
    "### TRAINING AND TESTING OF THE NN WITH THE VARIABLE WE WANT TO TEST ### \n",
    "########################################################################\n",
    "\n",
    "\n",
    "\n",
    "### PREPARE DFs FOR TRAINING AND TEST ###\n",
    "\n",
    "#these features are taken from the LHCb paper and have to be computed and added to the dataframes\n",
    "features = [\n",
    "    'm2_miss', #missing mass square (p_B - p_mu1 - p_mu2 - p_mu)^2\n",
    "    #'muE_Brf', #mu energy in the Bc rest frame\n",
    "    #'q2', #squared 4momentum transfer to lepton sys (p_B - p_Jpsi^2)\n",
    "    #'pT_miss',\n",
    "    'mu_pt'     ,\n",
    "    'mu_eta'    ,\n",
    "    'mu_phi'    ,\n",
    "    'mu_charge' ,\n",
    "    'mu1_pt'    ,\n",
    "    'mu1_eta'   ,\n",
    "    'mu1_phi'   ,\n",
    "    'mu1_charge',\n",
    "    'mu2_pt'    ,\n",
    "    'mu2_eta'   ,\n",
    "    'mu2_phi'   ,\n",
    "    'mu2_charge',\n",
    "]\n",
    "\n",
    "# concatenate the two samples\n",
    "dataset = pd.concat([mu, tau],sort=False)\n",
    "\n",
    "# shuffle and split train/test\n",
    "train, test = train_test_split(dataset, test_size=0.85, random_state=1986, shuffle=True)\n",
    "\n",
    "# X and Y on the training sample\n",
    "X = pd.DataFrame(train, columns=features)\n",
    "Y = pd.DataFrame(train, columns=['target'])\n",
    "\n",
    "\n",
    "\n",
    "### DEFINE THE MODEL ###\n",
    "\n",
    "# define the model\n",
    "model = Sequential()\n",
    "model.add(Dense(12, input_dim=len(features), activation='relu'))\n",
    "model.add(Dense(8, activation='relu'))\n",
    "model.add(Dense(1, activation='sigmoid'))\n",
    "\n",
    "# compile the model\n",
    "model.compile(loss='binary_crossentropy', optimizer='adam', metrics=['accuracy'])\n",
    "\n",
    "\n",
    "\n",
    "### TRAIN THE MODEL ###\n",
    "\n",
    "# fit the model\n",
    "model.fit(X, Y, epochs=10, batch_size=10, validation_split=0.5)\n",
    "\n",
    "\n",
    "\n",
    "### TEST THE TRAINING OF THE MODEL ###\n",
    "\n",
    "# evaluate the model\n",
    "scores = model.evaluate(X, Y)\n",
    "print(\"\\n%s: %.2f%%\" % (model.metrics_names[0], scores[0]*100))\n",
    "print(\"%s: %.2f%%\" % (model.metrics_names[1], scores[1]*100))\n",
    "\n",
    "# calculate predictions on the test sample\n",
    "print 'predicting on', test.shape[0], 'events'\n",
    "x = pd.DataFrame(test, columns=features)\n",
    "y = model.predict(x)\n",
    "\n",
    "# add the score to the test sample dataframe\n",
    "test.insert(len(test.columns), 'nn_score', y)\n",
    "\n",
    "\n",
    "\n",
    "### ROC & SCORE CURVES ###\n",
    "\n",
    "# let sklearn do the heavy lifting and compute the ROC curves for you\n",
    "fpr, tpr, wps = roc_curve(test.target, test.nn_score)\n",
    "\n",
    "# plot\n",
    "plt.plot(fpr, tpr, label=r'$\\mu$ vs. $\\tau$ NN', color='b')\n",
    "# plot also the diagonal, that corresponds to random picks, no discrimination power\n",
    "xy = [i*j for i,j in product([10.**i for i in range(-8, 0)], [1,2,4,8])]+[1]\n",
    "plt.plot(xy, xy, color='grey', linestyle='--', label='no-discrimination curve')\n",
    "# cosmetics\n",
    "plt.title('ROC curve')\n",
    "plt.xlabel(r'$\\epsilon(\\tau)$')\n",
    "plt.ylabel(r'$\\epsilon(\\mu)$')\n",
    "# axis range\n",
    "plt.xlim([0.0, 1.0])\n",
    "plt.ylim([0.0, 1.0])\n",
    "# grid\n",
    "plt.grid(True)\n",
    "# legend\n",
    "plt.legend(loc='best')\n",
    "# save figure and then clean it\n",
    "plt.savefig('roc_test.pdf')\n",
    "plt.show()\n",
    "plt.clf()\n",
    "\n",
    "# plot the discriminator shape for the muon and tau channel\n",
    "test_tau = test[test.tau_pt>=0]\n",
    "test_mu  = test[test.tau_pt <0]\n",
    "sb.distplot(test_tau['nn_score'], kde=False, norm_hist=True, label=r'$\\tau\\to\\mu$ channel', color='b')\n",
    "sb.distplot(test_mu ['nn_score'], kde=False, norm_hist=True, label=r'$\\mu$ channel' , color='r')\n",
    "plt.title('Classifier distribution')\n",
    "plt.xlabel('classifier score')\n",
    "plt.ylabel('a.u.')\n",
    "plt.xlim([0.0, 1.0])\n",
    "plt.legend(loc='upper right')\n",
    "plt.savefig('score_test.pdf')\n",
    "plt.show()\n",
    "plt.clf()\n",
    "\n",
    "# compute the auc\n",
    "auroc2 = auc(fpr, tpr)\n",
    "print \"AUC =\", auroc2 \n",
    "\n",
    "# compute Gini index\n",
    "print \"Gini index =\", (auroc2-0.5)*2"
   ]
  },
  {
   "cell_type": "code",
   "execution_count": 22,
   "metadata": {},
   "outputs": [
    {
     "name": "stdout",
     "output_type": "stream",
     "text": [
      "AUC without test variable = 0.8228408305623924\n",
      "Gini index without test variable = 0.6456816611247849\n",
      "\n",
      "AUC with test variable = 0.9673062180597911\n",
      "Gini index with test variable = 0.9346124361195822\n"
     ]
    }
   ],
   "source": [
    "print \"AUC without test variable =\", auroc1 \n",
    "print \"Gini index without test variable =\", (auroc1-0.5)*2\n",
    "print \"\\nAUC with test variable =\", auroc2 \n",
    "print \"Gini index with test variable =\", (auroc2-0.5)*2"
   ]
  },
  {
   "cell_type": "code",
   "execution_count": 16,
   "metadata": {},
   "outputs": [
    {
     "name": "stdout",
     "output_type": "stream",
     "text": [
      "                  q2   pT_miss     mu_pt    mu_eta    mu_phi  mu_charge  \\\n",
      "q2          1.000000  0.157459  0.055076  0.002202 -0.001634        NaN   \n",
      "pT_miss     0.157459  1.000000 -0.203002  0.000323 -0.001009        NaN   \n",
      "mu_pt       0.055076 -0.203002  1.000000 -0.000020  0.000331        NaN   \n",
      "mu_eta      0.002202  0.000323 -0.000020  1.000000 -0.005637        NaN   \n",
      "mu_phi     -0.001634 -0.001009  0.000331 -0.005637  1.000000        NaN   \n",
      "mu_charge        NaN       NaN       NaN       NaN       NaN        NaN   \n",
      "mu1_pt     -0.134137  0.153931  0.076461 -0.001079 -0.000559        NaN   \n",
      "mu1_eta     0.002426  0.001583  0.000093  0.883683 -0.006081        NaN   \n",
      "mu1_phi    -0.000534 -0.002383  0.001377 -0.008727  0.500013        NaN   \n",
      "mu1_charge -0.000411  0.000174 -0.000778 -0.002168  0.000842        NaN   \n",
      "mu2_pt     -0.110657  0.056096  0.049227  0.000921 -0.002363        NaN   \n",
      "mu2_eta     0.004240  0.001171  0.000133  0.790929 -0.006328        NaN   \n",
      "mu2_phi     0.000771 -0.002322 -0.000463 -0.004304  0.285668        NaN   \n",
      "mu2_charge  0.000411 -0.000174  0.000778  0.002168 -0.000842        NaN   \n",
      "\n",
      "              mu1_pt   mu1_eta   mu1_phi  mu1_charge    mu2_pt   mu2_eta  \\\n",
      "q2         -0.134137  0.002426 -0.000534   -0.000411 -0.110657  0.004240   \n",
      "pT_miss     0.153931  0.001583 -0.002383    0.000174  0.056096  0.001171   \n",
      "mu_pt       0.076461  0.000093  0.001377   -0.000778  0.049227  0.000133   \n",
      "mu_eta     -0.001079  0.883683 -0.008727   -0.002168  0.000921  0.790929   \n",
      "mu_phi     -0.000559 -0.006081  0.500013    0.000842 -0.002363 -0.006328   \n",
      "mu_charge        NaN       NaN       NaN         NaN       NaN       NaN   \n",
      "mu1_pt      1.000000 -0.001161  0.000079    0.001327  0.228885  0.001027   \n",
      "mu1_eta    -0.001161  1.000000 -0.007078   -0.002595  0.000227  0.794660   \n",
      "mu1_phi     0.000079 -0.007078  1.000000   -0.000261 -0.002964 -0.008676   \n",
      "mu1_charge  0.001327 -0.002595 -0.000261    1.000000  0.001261 -0.003200   \n",
      "mu2_pt      0.228885  0.000227 -0.002964    0.001261  1.000000  0.001166   \n",
      "mu2_eta     0.001027  0.794660 -0.008676   -0.003200  0.001166  1.000000   \n",
      "mu2_phi    -0.000607 -0.004270  0.267889   -0.002434 -0.003483 -0.005757   \n",
      "mu2_charge -0.001327  0.002595  0.000261   -1.000000 -0.001261  0.003200   \n",
      "\n",
      "             mu2_phi  mu2_charge  \n",
      "q2          0.000771    0.000411  \n",
      "pT_miss    -0.002322   -0.000174  \n",
      "mu_pt      -0.000463    0.000778  \n",
      "mu_eta     -0.004304    0.002168  \n",
      "mu_phi      0.285668   -0.000842  \n",
      "mu_charge        NaN         NaN  \n",
      "mu1_pt     -0.000607   -0.001327  \n",
      "mu1_eta    -0.004270    0.002595  \n",
      "mu1_phi     0.267889    0.000261  \n",
      "mu1_charge -0.002434   -1.000000  \n",
      "mu2_pt     -0.003483   -0.001261  \n",
      "mu2_eta    -0.005757    0.003200  \n",
      "mu2_phi     1.000000    0.002434  \n",
      "mu2_charge  0.002434    1.000000  \n"
     ]
    }
   ],
   "source": [
    "#corr_test = pd.DataFrame(mu, columns=['q2','muE_Brf','pT_miss'])\n",
    "#print corr_test.corr()"
   ]
  },
  {
   "cell_type": "code",
   "execution_count": null,
   "metadata": {},
   "outputs": [],
   "source": []
  },
  {
   "cell_type": "code",
   "execution_count": null,
   "metadata": {},
   "outputs": [],
   "source": []
  }
 ],
 "metadata": {
  "kernelspec": {
   "display_name": "Python 2",
   "language": "python",
   "name": "python2"
  },
  "language_info": {
   "codemirror_mode": {
    "name": "ipython",
    "version": 2
   },
   "file_extension": ".py",
   "mimetype": "text/x-python",
   "name": "python",
   "nbconvert_exporter": "python",
   "pygments_lexer": "ipython2",
   "version": "2.7.15"
  }
 },
 "nbformat": 4,
 "nbformat_minor": 2
}
