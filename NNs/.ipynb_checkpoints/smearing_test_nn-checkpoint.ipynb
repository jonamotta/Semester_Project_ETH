{
 "cells": [
  {
   "cell_type": "code",
   "execution_count": 1,
   "metadata": {},
   "outputs": [
    {
     "name": "stdout",
     "output_type": "stream",
     "text": [
      "Welcome to JupyROOT 6.16/00\n"
     ]
    },
    {
     "name": "stderr",
     "output_type": "stream",
     "text": [
      "/Users/jonamotta/anaconda3/envs/python_root/lib/python2.7/site-packages/root_numpy/__init__.py:46: RuntimeWarning: numpy 1.16.3 is currently installed but you installed root_numpy against numpy 1.9.3. Please consider reinstalling root_numpy for this numpy version.\n",
      "  RuntimeWarning)\n",
      "Using TensorFlow backend.\n"
     ]
    }
   ],
   "source": [
    "import sys\n",
    "import ROOT\n",
    "import numpy as np\n",
    "import pandas as pd\n",
    "import root_pandas\n",
    "import seaborn as sb\n",
    "import matplotlib.pyplot as plt\n",
    "import uproot\n",
    "import time\n",
    "\n",
    "from itertools import product\n",
    "\n",
    "#from root_numpy import root2array\n",
    "\n",
    "from keras.models import Sequential\n",
    "from keras.layers import Dense\n",
    "\n",
    "from sklearn.model_selection import train_test_split\n",
    "from sklearn.metrics import roc_curve, roc_auc_score, auc"
   ]
  },
  {
   "cell_type": "code",
   "execution_count": 2,
   "metadata": {},
   "outputs": [],
   "source": [
    "########################################\n",
    "### READ TREES AND CREATE DATAFRAMES ###\n",
    "########################################\n",
    "\n",
    "\n",
    "# fix random seed for reproducibility\n",
    "np.random.seed(1986)\n",
    "\n",
    "#create DataFrames with the values coming from the trees\n",
    "file_tau = uproot.open('bc_jpsi_tau_nu_gen.root')\n",
    "tree_tau = file_tau['tree;1']\n",
    "tau  = tree_tau.pandas.df(tree_tau.keys())\n",
    "\n",
    "file_mu = uproot.open('bc_jpsi_mu_nu_gen.root')\n",
    "tree_mu = file_mu['tree;1']\n",
    "mu  = tree_mu.pandas.df(tree_mu.keys())"
   ]
  },
  {
   "cell_type": "code",
   "execution_count": 3,
   "metadata": {},
   "outputs": [
    {
     "name": "stdout",
     "output_type": "stream",
     "text": [
      "Running time to add the three new vars to the df = 532.7\n"
     ]
    }
   ],
   "source": [
    "############################################\n",
    "### ADD NECESSARY FEATURES TO DATAFRAMES ###\n",
    "############################################\n",
    "\n",
    "\n",
    "#add the column target to both dataframes\n",
    "mu ['target'] = 0\n",
    "tau['target'] = 1\n",
    "#add the columns of interesting features (taken from LHCb paper)\n",
    "mu['m2_miss'] = 0 #missing mass square (p_B - p_mu1 - p_mu2 - p_mu)^2\n",
    "mu['muE_Brf'] = 0 #mu energy in the Bc rest frame\n",
    "mu['q2'] = 0 #squared 4momentum transfer to lepton sys (p_B - p_mu1 - p_mu2)^2\n",
    "\n",
    "bc_vect = ROOT.TLorentzVector()\n",
    "jpsi_vect = ROOT.TLorentzVector()\n",
    "mu_vect = ROOT.TLorentzVector()\n",
    "mu1_vect = ROOT.TLorentzVector()\n",
    "mu2_vect = ROOT.TLorentzVector()\n",
    "mu_mass = 0.10565837 #GeV/c^2\n",
    "c = 2.99e8 #m/s\n",
    "\n",
    "\n",
    "start = time.time()\n",
    "i = 0\n",
    "while i < mu['run'].count():\n",
    "    bc_vect.SetPtEtaPhiM(mu.at[i,'bc_pt'],mu.at[i,'bc_eta'],mu.at[i,'bc_phi'],mu.at[i,'bc_mass'])\n",
    "    mu_vect.SetPtEtaPhiM(max(np.random.normal(mu.at[i,'mu_pt'], mu.at[i,'mu_pt']*1.5/100),0),mu.at[i,'mu_eta'],mu.at[i,'mu_phi'],mu_mass)\n",
    "    mu1_vect.SetPtEtaPhiM(max(np.random.normal(mu.at[i,'mu1_pt'], mu.at[i,'mu1_pt']*1.5/100),0),mu.at[i,'mu1_eta'],mu.at[i,'mu1_phi'],mu_mass)\n",
    "    mu2_vect.SetPtEtaPhiM(max(np.random.normal(mu.at[i,'mu2_pt'], mu.at[i,'mu2_pt']*1.5/100),0),mu.at[i,'mu2_eta'],mu.at[i,'mu2_phi'],mu_mass)\n",
    "\n",
    "    m2_vect = bc_vect - mu1_vect - mu2_vect - mu_vect\n",
    "    q2_vect = bc_vect - mu1_vect - mu2_vect\n",
    "    \n",
    "    mu.at[i,'m2_miss'] = m2_vect.Mag2()\n",
    "    mu.at[i,'q2'] = q2_vect.Mag2()\n",
    "    mu.at[i,'muE_Brf'] = mu_vect.E() * np.cosh(mu_vect.Rapidity() - bc_vect.Rapidity())\n",
    "    mu.at[i,'pT_miss'] = m2_vect.Pt()\n",
    "    \n",
    "    i += 1\n",
    "    \n",
    "i = 0\n",
    "while i < tau['run'].count():\n",
    "    bc_vect.SetPtEtaPhiM(tau.at[i,'bc_pt'],tau.at[i,'bc_eta'],tau.at[i,'bc_phi'],tau.at[i,'bc_mass'])\n",
    "    mu_vect.SetPtEtaPhiM(max(np.random.normal(tau.at[i,'mu_pt'], tau.at[i,'mu_pt']*1.5/100),0),tau.at[i,'mu_eta'],tau.at[i,'mu_phi'],mu_mass)\n",
    "    mu1_vect.SetPtEtaPhiM(max(np.random.normal(tau.at[i,'mu1_pt'], tau.at[i,'mu1_pt']*1.5/100),0),tau.at[i,'mu1_eta'],tau.at[i,'mu1_phi'],mu_mass)\n",
    "    mu2_vect.SetPtEtaPhiM(max(np.random.normal(tau.at[i,'mu2_pt'], tau.at[i,'mu2_pt']*1.5/100),0),tau.at[i,'mu2_eta'],tau.at[i,'mu2_phi'],mu_mass)\n",
    "\n",
    "    m2_vect = bc_vect - mu1_vect - mu2_vect - mu_vect\n",
    "    q2_vect = bc_vect - mu1_vect - mu2_vect\n",
    "    \n",
    "    tau.at[i,'m2_miss'] = m2_vect.Mag2()\n",
    "    tau.at[i,'q2'] = q2_vect.Mag2()\n",
    "    tau.at[i,'muE_Brf'] = mu_vect.E() * np.cosh(mu_vect.Rapidity() - bc_vect.Rapidity())\n",
    "    tau.at[i,'pT_miss'] = m2_vect.Pt()\n",
    "    \n",
    "    i += 1\n",
    "    \n",
    "end = time.time()\n",
    "print 'Running time to add the three new vars to the df = %.1f'%(end - start)"
   ]
  },
  {
   "cell_type": "code",
   "execution_count": 4,
   "metadata": {},
   "outputs": [],
   "source": [
    "#########################################\n",
    "### PREPARE DFs FOR TRAINING AND TEST ###\n",
    "#########################################\n",
    "\n",
    "\n",
    "#these features are taken from the LHCb paper and have to be computed and added to the dataframes\n",
    "features = [\n",
    "    'm2_miss', #missing mass square (p_B - p_mu1 - p_mu2 - p_mu)^2\n",
    "    'muE_Brf', #mu energy in the Bc rest frame\n",
    "    'q2', #squared 4momentum transfer to lepton sys (p_B - p_Jpsi^2)\n",
    "    'pT_miss',\n",
    "    'mu_pt'     ,\n",
    "    'mu_eta'    ,\n",
    "    'mu_phi'    ,\n",
    "    #'mu_charge' ,\n",
    "    'mu1_pt'    ,\n",
    "    'mu1_eta'   ,\n",
    "    'mu1_phi'   ,\n",
    "    #'mu1_charge',\n",
    "    'mu2_pt'    ,\n",
    "    'mu2_eta'   ,\n",
    "    'mu2_phi'   ,\n",
    "    #'mu2_charge',\n",
    "]\n",
    "\n",
    "# concatenate the two samples\n",
    "dataset = pd.concat([mu, tau],sort=False)\n",
    "\n",
    "# shuffle and split train/test\n",
    "train, test = train_test_split(dataset, test_size=0.85, random_state=1986, shuffle=True)\n",
    "\n",
    "# X and Y on the training sample\n",
    "X = pd.DataFrame(train, columns=features)\n",
    "Y = pd.DataFrame(train, columns=['target'])"
   ]
  },
  {
   "cell_type": "code",
   "execution_count": 5,
   "metadata": {},
   "outputs": [
    {
     "name": "stdout",
     "output_type": "stream",
     "text": [
      "WARNING:tensorflow:From /Users/jonamotta/anaconda3/envs/python_root/lib/python2.7/site-packages/tensorflow/python/framework/op_def_library.py:263: colocate_with (from tensorflow.python.framework.ops) is deprecated and will be removed in a future version.\n",
      "Instructions for updating:\n",
      "Colocations handled automatically by placer.\n"
     ]
    }
   ],
   "source": [
    "########################\n",
    "### DEFINE THE MODEL ###\n",
    "########################\n",
    "\n",
    "# define the model\n",
    "model = Sequential()\n",
    "model.add(Dense(12, input_dim=len(features), activation='relu'))\n",
    "model.add(Dense(8, activation='relu'))\n",
    "model.add(Dense(1, activation='sigmoid'))\n",
    "\n",
    "# compile the model\n",
    "model.compile(loss='binary_crossentropy', optimizer='adam', metrics=['accuracy'])"
   ]
  },
  {
   "cell_type": "code",
   "execution_count": 6,
   "metadata": {},
   "outputs": [
    {
     "name": "stdout",
     "output_type": "stream",
     "text": [
      "WARNING:tensorflow:From /Users/jonamotta/anaconda3/envs/python_root/lib/python2.7/site-packages/tensorflow/python/ops/math_ops.py:3066: to_int32 (from tensorflow.python.ops.math_ops) is deprecated and will be removed in a future version.\n",
      "Instructions for updating:\n",
      "Use tf.cast instead.\n",
      "Train on 48422 samples, validate on 48422 samples\n",
      "Epoch 1/10\n",
      "48422/48422 [==============================] - 7s 144us/step - loss: 0.1584 - acc: 0.9485 - val_loss: 0.1036 - val_acc: 0.9672\n",
      "Epoch 2/10\n",
      "48422/48422 [==============================] - 7s 135us/step - loss: 0.0876 - acc: 0.9723 - val_loss: 0.0819 - val_acc: 0.9758\n",
      "Epoch 3/10\n",
      "48422/48422 [==============================] - 7s 135us/step - loss: 0.0776 - acc: 0.9763 - val_loss: 0.0760 - val_acc: 0.9770\n",
      "Epoch 4/10\n",
      "48422/48422 [==============================] - 7s 135us/step - loss: 0.0730 - acc: 0.9777 - val_loss: 0.0717 - val_acc: 0.9792\n",
      "Epoch 5/10\n",
      "48422/48422 [==============================] - 7s 135us/step - loss: 0.0694 - acc: 0.9792 - val_loss: 0.0684 - val_acc: 0.9799\n",
      "Epoch 6/10\n",
      "48422/48422 [==============================] - 7s 136us/step - loss: 0.0668 - acc: 0.9803 - val_loss: 0.0743 - val_acc: 0.9790\n",
      "Epoch 7/10\n",
      "48422/48422 [==============================] - 7s 136us/step - loss: 0.0654 - acc: 0.9804 - val_loss: 0.0645 - val_acc: 0.9811\n",
      "Epoch 8/10\n",
      "48422/48422 [==============================] - 7s 135us/step - loss: 0.0643 - acc: 0.9808 - val_loss: 0.0640 - val_acc: 0.9814\n",
      "Epoch 9/10\n",
      "48422/48422 [==============================] - 7s 135us/step - loss: 0.0634 - acc: 0.9810 - val_loss: 0.0682 - val_acc: 0.9809\n",
      "Epoch 10/10\n",
      "48422/48422 [==============================] - 7s 134us/step - loss: 0.0630 - acc: 0.9815 - val_loss: 0.0640 - val_acc: 0.9815\n"
     ]
    },
    {
     "data": {
      "text/plain": [
       "<keras.callbacks.History at 0x10f09d210>"
      ]
     },
     "execution_count": 6,
     "metadata": {},
     "output_type": "execute_result"
    },
    {
     "name": "stderr",
     "output_type": "stream",
     "text": [
      "2019-06-08 17:02:18.620807: I tensorflow/core/platform/cpu_feature_guard.cc:141] Your CPU supports instructions that this TensorFlow binary was not compiled to use: AVX2 FMA\n"
     ]
    }
   ],
   "source": [
    "#######################\n",
    "### TRAIN THE MODEL ###\n",
    "#######################\n",
    "\n",
    "\n",
    "# fit the model\n",
    "model.fit(X, Y, epochs=10, batch_size=10, validation_split=0.5)"
   ]
  },
  {
   "cell_type": "code",
   "execution_count": 7,
   "metadata": {},
   "outputs": [
    {
     "name": "stdout",
     "output_type": "stream",
     "text": [
      "96844/96844 [==============================] - 1s 11us/step\n",
      "\n",
      "loss: 6.23%\n",
      "acc: 98.19%\n",
      "predicting on 548784 events\n"
     ]
    }
   ],
   "source": [
    "######################################\n",
    "### TEST THE TRAINING OF THE MODEL ###\n",
    "######################################\n",
    "\n",
    "\n",
    "# evaluate the model\n",
    "scores = model.evaluate(X, Y)\n",
    "print(\"\\n%s: %.2f%%\" % (model.metrics_names[0], scores[0]*100))\n",
    "print(\"%s: %.2f%%\" % (model.metrics_names[1], scores[1]*100))\n",
    "\n",
    "# calculate predictions on the test sample\n",
    "print 'predicting on', test.shape[0], 'events'\n",
    "x = pd.DataFrame(test, columns=features)\n",
    "y = model.predict(x)"
   ]
  },
  {
   "cell_type": "code",
   "execution_count": 8,
   "metadata": {},
   "outputs": [],
   "source": [
    "# add the score to the test sample dataframe\n",
    "test.insert(len(test.columns), 'nn_score', y)"
   ]
  },
  {
   "cell_type": "code",
   "execution_count": 9,
   "metadata": {},
   "outputs": [],
   "source": [
    "#################\n",
    "### ROC CURVE ###\n",
    "#################\n",
    "\n",
    "\n",
    "# let sklearn do the heavy lifting and compute the ROC curves for you\n",
    "fpr, tpr, wps = roc_curve(test.target, test.nn_score)"
   ]
  },
  {
   "cell_type": "code",
   "execution_count": 10,
   "metadata": {},
   "outputs": [
    {
     "data": {
      "image/png": "[encoded data removed]",
      "text/plain": [
       "<Figure size 432x288 with 1 Axes>"
      ]
     },
     "metadata": {
      "needs_background": "light"
     },
     "output_type": "display_data"
    },
    {
     "data": {
      "image/png": "[encoded data removed]",
      "text/plain": [
       "<Figure size 432x288 with 1 Axes>"
      ]
     },
     "metadata": {
      "needs_background": "light"
     },
     "output_type": "display_data"
    },
    {
     "data": {
      "text/plain": [
       "<Figure size 432x288 with 0 Axes>"
      ]
     },
     "metadata": {},
     "output_type": "display_data"
    }
   ],
   "source": [
    "##########################\n",
    "### ROC & SCORE CURVES ###\n",
    "##########################\n",
    "\n",
    "\n",
    "# plot\n",
    "plt.plot(fpr, tpr, label=r'$\\mu$ vs. $\\tau$ NN', color='b')\n",
    "# plot also the diagonal, that corresponds to random picks, no discrimination power\n",
    "xy = [i*j for i,j in product([10.**i for i in range(-8, 0)], [1,2,4,8])]+[1]\n",
    "plt.plot(xy, xy, color='grey', linestyle='--', label='no-discrimination curve')\n",
    "# cosmetics\n",
    "plt.title('ROC curve')\n",
    "plt.xlabel(r'$\\epsilon(\\tau)$')\n",
    "plt.ylabel(r'$\\epsilon(\\mu)$')\n",
    "# axis range\n",
    "plt.xlim([0.0, 1.0])\n",
    "plt.ylim([0.0, 1.0])\n",
    "# grid\n",
    "plt.grid(True)\n",
    "# legend\n",
    "plt.legend(loc='best')\n",
    "# save figure and then clean it\n",
    "plt.savefig('graphs/all_roc.pdf')\n",
    "plt.show()\n",
    "#plt.clf()\n",
    "\n",
    "# plot the discriminator shape for the muon and tau channel\n",
    "test_tau = test[test.tau_pt>=0]\n",
    "test_mu  = test[test.tau_pt <0]\n",
    "sb.distplot(test_tau['nn_score'], kde=False, norm_hist=True, label=r'$\\tau\\to\\mu$ channel', color='b')\n",
    "sb.distplot(test_mu ['nn_score'], kde=False, norm_hist=True, label=r'$\\mu$ channel' , color='r')\n",
    "plt.title('Classifier distribution')\n",
    "plt.xlabel('classifier score')\n",
    "plt.ylabel('a.u.')\n",
    "plt.xlim([0.0, 1.0])\n",
    "#plt.ylim([0.0, 0.25])\n",
    "plt.legend(loc='upper right')\n",
    "plt.savefig('graphs/all_score.pdf')\n",
    "plt.show()\n",
    "plt.clf()"
   ]
  },
  {
   "cell_type": "code",
   "execution_count": 11,
   "metadata": {},
   "outputs": [
    {
     "name": "stdout",
     "output_type": "stream",
     "text": [
      "AUC = 0.9948729737642348\n",
      "Gini index = 0.9897459475284696\n"
     ]
    }
   ],
   "source": [
    "# compute the auc\n",
    "auroc = auc(fpr, tpr)\n",
    "print \"AUC =\", auroc \n",
    "\n",
    "# compute Gini index\n",
    "print \"Gini index =\", (auroc-0.5)*2"
   ]
  },
  {
   "cell_type": "code",
   "execution_count": 12,
   "metadata": {},
   "outputs": [
    {
     "data": {
      "image/png": "[encoded data removed]",
      "text/plain": [
       "<Figure size 432x288 with 1 Axes>"
      ]
     },
     "metadata": {
      "needs_background": "light"
     },
     "output_type": "display_data"
    }
   ],
   "source": [
    "sb.distplot(mu['m2_miss'], kde=False, color='g', norm_hist=True, label='$\\mu$ channel')\n",
    "sb.distplot(tau['m2_miss'], kde=False, color='r', norm_hist=True, label='$\\tau$ channel')\n",
    "plt.xlabel('missing $m^2$ [GeV]')\n",
    "plt.ylabel('n_ev')\n",
    "plt.show()"
   ]
  },
  {
   "cell_type": "code",
   "execution_count": null,
   "metadata": {},
   "outputs": [],
   "source": []
  }
 ],
 "metadata": {
  "kernelspec": {
   "display_name": "Python 2",
   "language": "python",
   "name": "python2"
  },
  "language_info": {
   "codemirror_mode": {
    "name": "ipython",
    "version": 2
   },
   "file_extension": ".py",
   "mimetype": "text/x-python",
   "name": "python",
   "nbconvert_exporter": "python",
   "pygments_lexer": "ipython2",
   "version": "2.7.15"
  }
 },
 "nbformat": 4,
 "nbformat_minor": 2
}
