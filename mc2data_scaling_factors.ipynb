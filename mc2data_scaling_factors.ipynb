{
 "cells": [
  {
   "cell_type": "code",
   "execution_count": 1,
   "metadata": {},
   "outputs": [
    {
     "name": "stdout",
     "output_type": "stream",
     "text": [
      "Welcome to JupyROOT 6.16/00\n"
     ]
    },
    {
     "name": "stderr",
     "output_type": "stream",
     "text": [
      "/Users/jonamotta/anaconda3/envs/python_root/lib/python2.7/site-packages/root_numpy/__init__.py:46: RuntimeWarning: numpy 1.16.3 is currently installed but you installed root_numpy against numpy 1.9.3. Please consider reinstalling root_numpy for this numpy version.\n",
      "  RuntimeWarning)\n",
      "Using TensorFlow backend.\n"
     ]
    }
   ],
   "source": [
    "import sys\n",
    "import ROOT\n",
    "import numpy as np\n",
    "import pandas as pd\n",
    "import root_pandas\n",
    "import seaborn as sb\n",
    "import matplotlib.pyplot as plt\n",
    "import uproot\n",
    "import time\n",
    "\n",
    "from itertools import product\n",
    "\n",
    "#from root_numpy import root2array\n",
    "\n",
    "from keras.models import Sequential\n",
    "from keras.layers import Dense\n",
    "\n",
    "from sklearn.model_selection import train_test_split\n",
    "from sklearn.metrics import roc_curve, roc_auc_score, auc\n",
    "from sklearn.preprocessing import QuantileTransformer\n",
    "import pickle"
   ]
  },
  {
   "cell_type": "code",
   "execution_count": 2,
   "metadata": {},
   "outputs": [],
   "source": [
    "########################################\n",
    "### READ TREES AND CREATE DATAFRAMES ###\n",
    "########################################\n",
    "\n",
    "\n",
    "# fix random seed for reproducibility\n",
    "np.random.seed(1986)\n",
    "\n",
    "#create DataFrames with the values coming from the trees\n",
    "file_tau = uproot.open('../bc_jpsi_tau_nu_gen_v2.root')\n",
    "tree_tau = file_tau['tree;1']\n",
    "tau  = tree_tau.pandas.df(tree_tau.keys())\n",
    "\n",
    "file_mu = uproot.open('../bc_jpsi_mu_nu_gen_v2.root')\n",
    "tree_mu = file_mu['tree;2']\n",
    "mu  = tree_mu.pandas.df(tree_mu.keys())\n",
    "\n",
    "n_totMC_mu = mu['run'].count()\n",
    "n_totMC_tau = tau['run'].count()\n",
    "\n",
    "n_obs_cms = 7629 # number of Bc events observed by CMS as taken from the Bc(2S) paper where Bc->jpsi+pi\n",
    "n_norm_data = n_obs_cms / 4.96e-2 # account for the different branching ratio of Bc to pi or to mu\n",
    "n_signal_data_SM = n_obs_cms * 0.265 * 0.17 / 4.96e-2 # account for the different branching ratio of Bc to pi or to mu\n",
    "n_signal_data_LFNU = n_obs_cms * 0.71 * 0.17 / 4.96e-2 # account for the different branching ratio of Bc to pi or to mu"
   ]
  },
  {
   "cell_type": "code",
   "execution_count": 3,
   "metadata": {},
   "outputs": [
    {
     "name": "stdout",
     "output_type": "stream",
     "text": [
      "Running time to add the new vars to the df = 989.1\n"
     ]
    }
   ],
   "source": [
    "############################################\n",
    "### ADD NECESSARY FEATURES TO DATAFRAMES ###\n",
    "############################################\n",
    "\n",
    "n_norm_MC = 0\n",
    "n_signal_MC = 0\n",
    "\n",
    "mu_vect = ROOT.TLorentzVector()\n",
    "mu1_vect = ROOT.TLorentzVector()\n",
    "mu2_vect = ROOT.TLorentzVector()\n",
    "mu_mass = 0.10565837 #GeV/c^2\n",
    "jpsi_mass = 3.096900 #GeV/c^2\n",
    "c = 2.99e8 #m/s\n",
    "\n",
    "# in the following, when creating the TLorentzVector of mu, mu1, mu2 we try to account for the reconstruction error\n",
    "# made by the tracker and the muon system in the value of pT\n",
    "# we include a gaussian smearing -> we draw a value of pT from a gaussian centered at the value of the MC pT of the\n",
    "#                                   muon and with sigma 7% of the value of the MC pT (CMS performance)\n",
    "start = time.time()\n",
    "i = 0\n",
    "while i < mu['run'].count():\n",
    "    # we take only the events for which the muons atre all inside the acceptance of the CMS detector\n",
    "    if abs(mu.at[i,'mu_eta']) < 2.5 and abs(mu.at[i,'mu1_eta']) < 2.5 and abs(mu.at[i,'mu2_eta']) < 2.5 and mu.at[i,'mu_pt'] > 1.2 and mu.at[i,'mu1_pt'] > 1.2 and mu.at[i,'mu2_pt'] > 1.2:\n",
    "        # the following ifs look for events in the barrel, else they are in the endcap\n",
    "        if abs(mu.at[i,'mu_eta']) < 1.2 and mu.at[i,'mu_pt'] > 3:\n",
    "            mu_vect.SetPtEtaPhiM(max(np.random.normal(mu.at[i,'mu_pt'], mu.at[i,'mu_pt']*1/100),0),mu.at[i,'mu_eta'],mu.at[i,'mu_phi'],mu_mass)\n",
    "        else:\n",
    "            mu_vect.SetPtEtaPhiM(max(np.random.normal(mu.at[i,'mu_pt'], mu.at[i,'mu_pt']*3/100),0),mu.at[i,'mu_eta'],mu.at[i,'mu_phi'],mu_mass)\n",
    "        if abs(mu.at[i,'mu1_eta']) < 1.2 and mu.at[i,'mu1_pt'] > 3:\n",
    "            mu1_vect.SetPtEtaPhiM(max(np.random.normal(mu.at[i,'mu1_pt'], mu.at[i,'mu1_pt']*1/100),0),mu.at[i,'mu1_eta'],mu.at[i,'mu1_phi'],mu_mass)\n",
    "        else:\n",
    "            mu1_vect.SetPtEtaPhiM(max(np.random.normal(mu.at[i,'mu1_pt'], mu.at[i,'mu1_pt']*3/100),0),mu.at[i,'mu1_eta'],mu.at[i,'mu1_phi'],mu_mass)\n",
    "        if abs(mu.at[i,'mu2_eta']) < 1.2 and mu.at[i,'mu2_pt'] > 3:\n",
    "            mu2_vect.SetPtEtaPhiM(max(np.random.normal(mu.at[i,'mu2_pt'], mu.at[i,'mu2_pt']*1/100),0),mu.at[i,'mu2_eta'],mu.at[i,'mu2_phi'],mu_mass)\n",
    "        else:\n",
    "            mu2_vect.SetPtEtaPhiM(max(np.random.normal(mu.at[i,'mu2_pt'], mu.at[i,'mu2_pt']*3/100),0),mu.at[i,'mu2_eta'],mu.at[i,'mu2_phi'],mu_mass)\n",
    "\n",
    "        muons = [mu_vect,mu1_vect,mu2_vect]\n",
    "        muons_charge = [mu.at[i,'mu_charge'],mu.at[i,'mu1_charge'],mu.at[i,'mu2_charge']]\n",
    "        if muons_charge[0] != muons_charge[1]:\n",
    "            pair1_vect = muons[0] + muons[1]\n",
    "            pair2_vect = muons[1] + muons[2]\n",
    "            flag = True\n",
    "        else:\n",
    "            pair1_vect = muons[0] + muons[2]\n",
    "            pair2_vect = muons[1] + muons[2]\n",
    "            flag = False\n",
    "                    \n",
    "        if (abs(pair1_vect.Mag() - jpsi_mass)) < abs((pair2_vect.Mag() - jpsi_mass)):\n",
    "            if pair1_vect.Mag() < 3.3 and pair1_vect.Mag() > 2.9:\n",
    "                if flag == True and muons[0].Pt() > 4 and muons[1].Pt() > 4:\n",
    "                    n_norm_MC += 1\n",
    "                if flag == False and muons[0].Pt() > 4 and muons[2].Pt() > 4:\n",
    "                    n_norm_MC += 1     \n",
    "        else:\n",
    "            if pair1_vect.Mag() < 3.3 and pair1_vect.Mag() > 2.9:\n",
    "                if flag == True and muons[0].Pt() > 4 and muons[2].Pt() > 4:\n",
    "                    n_norm_MC += 1\n",
    "                if flag == False and muons[1].Pt() > 4 and muons[2].Pt() > 4:\n",
    "                    n_norm_MC += 1 \n",
    "                    \n",
    "                \n",
    "    i +=1\n",
    "\n",
    "# ------ end one loop, start the other ------ # \n",
    "    \n",
    "i = 0\n",
    "while i < tau['run'].count():\n",
    "    # we take only the events for which the muons atre all inside the acceptance of the CMS detector\n",
    "    if abs(tau.at[i,'mu_eta']) < 2.5 and abs(tau.at[i,'mu1_eta']) < 2.5 and abs(tau.at[i,'mu2_eta']) < 2.5 and tau.at[i,'mu_pt'] > 1.2 and tau.at[i,'mu1_pt'] > 1.2 and tau.at[i,'mu2_pt'] > 1.2:\n",
    "        # the following ifs look for events in the barrel, else they are in the endcap\n",
    "        if abs(tau.at[i,'mu_eta']) < 1.2 and tau.at[i,'mu_pt'] > 3:\n",
    "            mu_vect.SetPtEtaPhiM(max(np.random.normal(tau.at[i,'mu_pt'], tau.at[i,'mu_pt']*1/100),0),tau.at[i,'mu_eta'],tau.at[i,'mu_phi'],mu_mass)\n",
    "        else:\n",
    "            mu_vect.SetPtEtaPhiM(max(np.random.normal(tau.at[i,'mu_pt'], tau.at[i,'mu_pt']*3/100),0),tau.at[i,'mu_eta'],tau.at[i,'mu_phi'],mu_mass)\n",
    "        if abs(tau.at[i,'mu1_eta']) < 1.2 and tau.at[i,'mu1_pt'] > 3:\n",
    "            mu1_vect.SetPtEtaPhiM(max(np.random.normal(tau.at[i,'mu1_pt'], tau.at[i,'mu1_pt']*1/100),0),tau.at[i,'mu1_eta'],tau.at[i,'mu1_phi'],mu_mass)\n",
    "        else:\n",
    "            mu1_vect.SetPtEtaPhiM(max(np.random.normal(tau.at[i,'mu1_pt'], tau.at[i,'mu1_pt']*3/100),0),tau.at[i,'mu1_eta'],tau.at[i,'mu1_phi'],mu_mass)\n",
    "        if abs(tau.at[i,'mu2_eta']) < 1.2 and tau.at[i,'mu2_pt'] > 3:\n",
    "            mu2_vect.SetPtEtaPhiM(max(np.random.normal(tau.at[i,'mu2_pt'], tau.at[i,'mu2_pt']*1/100),0),tau.at[i,'mu2_eta'],tau.at[i,'mu2_phi'],mu_mass)\n",
    "        else:\n",
    "            mu2_vect.SetPtEtaPhiM(max(np.random.normal(tau.at[i,'mu2_pt'], tau.at[i,'mu2_pt']*3/100),0),tau.at[i,'mu2_eta'],tau.at[i,'mu2_phi'],mu_mass)\n",
    "\n",
    "        muons = [mu_vect,mu1_vect,mu2_vect]\n",
    "        muons_charge = [tau.at[i,'mu_charge'],tau.at[i,'mu1_charge'],tau.at[i,'mu2_charge']]\n",
    "        if muons_charge[0] != muons_charge[1]:\n",
    "            pair1_vect = muons[0] + muons[1]\n",
    "            pair2_vect = muons[1] + muons[2]\n",
    "            flag = True\n",
    "        else:\n",
    "            pair1_vect = muons[0] + muons[2]\n",
    "            pair2_vect = muons[1] + muons[2]\n",
    "            flag = False         \n",
    "                    \n",
    "        if (abs(pair1_vect.Mag() - jpsi_mass)) < abs((pair2_vect.Mag() - jpsi_mass)):\n",
    "            if pair1_vect.Mag() < 3.3 and pair1_vect.Mag() > 2.9:\n",
    "                if flag == True and muons[0].Pt() > 4 and muons[1].Pt() > 4:\n",
    "                    n_signal_MC += 1\n",
    "                if flag == False and muons[0].Pt() > 4 and muons[2].Pt() > 4:\n",
    "                    n_signal_MC += 1     \n",
    "        else:\n",
    "            if pair1_vect.Mag() < 3.3 and pair1_vect.Mag() > 2.9:\n",
    "                if flag == True and muons[0].Pt() > 4 and muons[2].Pt() > 4:\n",
    "                    n_signal_MC += 1\n",
    "                if flag == False and muons[1].Pt() > 4 and muons[2].Pt() > 4:\n",
    "                    n_signal_MC += 1  \n",
    "                \n",
    "                \n",
    "    i +=1\n",
    "    \n",
    "end = time.time()\n",
    "print 'Running time to add the new vars to the df = %.1f'%(end - start)"
   ]
  },
  {
   "cell_type": "code",
   "execution_count": 4,
   "metadata": {},
   "outputs": [
    {
     "name": "stdout",
     "output_type": "stream",
     "text": [
      "MU SCALE FACTOR =  49.9566140696\n"
     ]
    }
   ],
   "source": [
    "#################################\n",
    "### CALCULATE MU SCALE FACTOR ###\n",
    "#################################\n",
    "\n",
    "# we have to account for the muon ID efficiency\n",
    "mu_scale_factor = n_norm_data / (n_norm_MC*0.96**3)\n",
    "\n",
    "print 'MU SCALE FACTOR = ', mu_scale_factor"
   ]
  },
  {
   "cell_type": "code",
   "execution_count": 6,
   "metadata": {},
   "outputs": [
    {
     "name": "stdout",
     "output_type": "stream",
     "text": [
      "TAU SCALE FACTOR IN SM PREDICTION=  235.92544374041478\n",
      "TAU SCALE FACTOR IN LFNU PREDICTION=  235.9254437404148\n"
     ]
    }
   ],
   "source": [
    "##################################\n",
    "### CALCULATE TAU SCALE FACTOR ###\n",
    "##################################\n",
    "\n",
    "\n",
    "# we have to account for the different luminosity at which the MC simulations were produced\n",
    "MClumi_scale_factor_SM = n_totMC_mu * 0.265 * 0.17 / n_totMC_tau\n",
    "MClumi_scale_factor_LFNU = n_totMC_mu * 0.71 * 0.17 / n_totMC_tau\n",
    "tau_scale_factor_SM = n_signal_data_SM / (n_signal_MC*MClumi_scale_factor_SM*0.96**3)\n",
    "tau_scale_factor_LFNU = n_signal_data_LFNU / (n_signal_MC*MClumi_scale_factor_LFNU*0.96**3)\n",
    "\n",
    "print 'TAU SCALE FACTOR IN SM PREDICTION = ', tau_scale_factor_SM\n",
    "print 'TAU SCALE FACTOR IN LFNU PREDICTION = ', tau_scale_factor_LFNU"
   ]
  },
  {
   "cell_type": "code",
   "execution_count": 9,
   "metadata": {},
   "outputs": [
    {
     "name": "stdout",
     "output_type": "stream",
     "text": [
      "30.82785712448828\n"
     ]
    }
   ],
   "source": [
    "print mu_scale_factor * MClumi_scale_factor_LFNU / 0.71"
   ]
  },
  {
   "cell_type": "code",
   "execution_count": null,
   "metadata": {},
   "outputs": [],
   "source": []
  }
 ],
 "metadata": {
  "kernelspec": {
   "display_name": "Python 2",
   "language": "python",
   "name": "python2"
  },
  "language_info": {
   "codemirror_mode": {
    "name": "ipython",
    "version": 2
   },
   "file_extension": ".py",
   "mimetype": "text/x-python",
   "name": "python",
   "nbconvert_exporter": "python",
   "pygments_lexer": "ipython2",
   "version": "2.7.15"
  }
 },
 "nbformat": 4,
 "nbformat_minor": 2
}
